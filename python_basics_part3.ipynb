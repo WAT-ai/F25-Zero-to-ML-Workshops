{
 "cells": [
  {
   "cell_type": "markdown",
   "metadata": {},
   "source": [
    "# Python Basics Part 3: Writing Better Code and Debugging\n",
    "\n",
    "Now that you know the fundamentals, let's learn how to write code like a Python pro and fix things when they break. This is where you'll start developing your \"Python intuition.\""
   ]
  },
  {
   "cell_type": "markdown",
   "metadata": {},
   "source": [
    "## Pythonic Code\n",
    "\n",
    "\"Pythonic\" code is clean, readable, and elegant. Let's transform verbose code into concise, elegant Python."
   ]
  },
  {
   "cell_type": "code",
   "execution_count": null,
   "metadata": {},
   "outputs": [],
   "source": [
    "# List comprehensions - creating lists in one line\n",
    "# Instead of this verbose approach:\n",
    "squares_verbose = []\n",
    "for i in range(10):\n",
    "    squares_verbose.append(i ** 2)\n",
    "\n",
    "# Write this elegant one-liner:\n",
    "squares_pythonic = [i ** 2 for i in range(10)]\n",
    "\n",
    "print(\"Verbose result:\", squares_verbose)\n",
    "print(\"Pythonic result:\", squares_pythonic)\n",
    "print(\"Same result?\", squares_verbose == squares_pythonic)"
   ]
  },
  {
   "cell_type": "code",
   "execution_count": null,
   "metadata": {},
   "outputs": [],
   "source": [
    "# List comprehensions with conditions\n",
    "numbers = [1, 2, 3, 4, 5, 6, 7, 8, 9, 10]\n",
    "\n",
    "# Get only even numbers\n",
    "evens = [num for num in numbers if num % 2 == 0]\n",
    "print(\"Even numbers:\", evens)\n",
    "\n",
    "# Transform and filter in one go\n",
    "big_squares = [num ** 2 for num in numbers if num > 5]\n",
    "print(\"Squares of numbers > 5:\", big_squares)"
   ]
  },
  {
   "cell_type": "code",
   "execution_count": null,
   "metadata": {},
   "outputs": [],
   "source": [
    "# F-strings vs old string formatting\n",
    "name = \"Alice\"\n",
    "age = 25\n",
    "score = 92.7\n",
    "\n",
    "# Old way (still works, but not preferred)\n",
    "print(\"Hello \" + name + \", you are \" + str(age) + \" years old\")\n",
    "\n",
    "# Pythonic way with f-strings\n",
    "print(f\"Hello {name}, you are {age} years old\")\n",
    "print(f\"Your score: {score:.1f}%\")  # .1f rounds to 1 decimal place"
   ]
  },
  {
   "cell_type": "code",
   "execution_count": null,
   "metadata": {},
   "outputs": [],
   "source": [
    "# Multiple assignment and tuple unpacking\n",
    "# Instead of multiple lines:\n",
    "x = 1\n",
    "y = 2\n",
    "z = 3\n",
    "\n",
    "# One line:\n",
    "x, y, z = 1, 2, 3\n",
    "\n",
    "# Swap variables elegantly:\n",
    "a, b = 10, 20\n",
    "print(f\"Before swap: a={a}, b={b}\")\n",
    "a, b = b, a  # No temporary variable needed!\n",
    "print(f\"After swap: a={a}, b={b}\")"
   ]
  },
  {
   "cell_type": "code",
   "execution_count": null,
   "metadata": {},
   "outputs": [],
   "source": [
    "# Dictionary methods and iterations\n",
    "student_grades = {\"Alice\": 92, \"Bob\": 78, \"Charlie\": 85}\n",
    "\n",
    "# Pythonic way to iterate through dictionaries\n",
    "for name, grade in student_grades.items():\n",
    "    print(f\"{name}: {grade}%\")\n",
    "\n",
    "# Get value with default if key doesn't exist\n",
    "alice_grade = student_grades.get(\"Alice\", 0)  # Returns 92\n",
    "david_grade = student_grades.get(\"David\", 0)  # Returns 0 (default)\n",
    "\n",
    "print(f\"Alice: {alice_grade}, David: {david_grade}\")"
   ]
  },
  {
   "cell_type": "code",
   "execution_count": null,
   "metadata": {},
   "outputs": [],
   "source": [
    "# Using enumerate and zip\n",
    "fruits = [\"apple\", \"banana\", \"cherry\"]\n",
    "prices = [1.20, 0.75, 2.50]\n",
    "\n",
    "# enumerate gives you both index and value\n",
    "print(\"Numbered fruit list:\")\n",
    "for i, fruit in enumerate(fruits, 1):  # Start counting from 1\n",
    "    print(f\"{i}. {fruit}\")\n",
    "\n",
    "# zip combines multiple lists\n",
    "print(\"\\nFruit prices:\")\n",
    "for fruit, price in zip(fruits, prices):\n",
    "    print(f\"{fruit}: ${price}\")"
   ]
  },
  {
   "cell_type": "markdown",
   "metadata": {},
   "source": [
    "---\n",
    "## Exercise 1: Code Refactoring Challenge\n",
    "\n",
    "Take this verbose, beginner-style code and make it more Pythonic using the techniques you've learned!"
   ]
  },
  {
   "cell_type": "code",
   "execution_count": null,
   "metadata": {},
   "outputs": [],
   "source": [
    "# BEFORE: Verbose, non-Pythonic code\n",
    "def process_student_data_verbose(students: list[dict]) -> tuple[list[str], float]:\n",
    "    \"\"\"\n",
    "    Process student data to extract high performers and calculate average scores.\n",
    "\n",
    "    Parameters\n",
    "    ----------\n",
    "    students : list[dict]\n",
    "        A list of dictionaries containing student names and scores.\n",
    "\n",
    "    Returns\n",
    "    -------\n",
    "    tuple[list[str], float]\n",
    "        A tuple containing a list of high performing students and the average score.\n",
    "    \"\"\"\n",
    "\n",
    "    # Calculate average scores for students with scores > 80\n",
    "    high_performers = []\n",
    "    for student in students:\n",
    "        if student[\"score\"] > 80:\n",
    "            high_performers.append(student)\n",
    "    \n",
    "    total_score = 0\n",
    "    count = 0\n",
    "    for student in high_performers:\n",
    "        total_score = total_score + student[\"score\"]\n",
    "        count = count + 1\n",
    "    \n",
    "    if count > 0:\n",
    "        average = total_score / count\n",
    "    else:\n",
    "        average = 0\n",
    "    \n",
    "    # Create report strings\n",
    "    report_lines = []\n",
    "    for student in high_performers:\n",
    "        name = student[\"name\"]\n",
    "        score = student[\"score\"]\n",
    "        line = name + \": \" + str(score) + \"%\"\n",
    "        report_lines.append(line)\n",
    "    \n",
    "    return report_lines, average # Same as a tuple (report_lines, average)"
   ]
  },
  {
   "cell_type": "code",
   "execution_count": null,
   "metadata": {},
   "outputs": [],
   "source": [
    "# TODO: Rewrite the above function using Pythonic techniques:\n",
    "# - List comprehensions\n",
    "# - F-strings\n",
    "# - Built-in functions (sum, len)\n",
    "# - More concise logic\n",
    "\n",
    "def process_student_data_pythonic(students):\n",
    "    \"\"\"\n",
    "    Your task: Rewrite the verbose function above using Pythonic techniques.\n",
    "    Should do the same thing but in much fewer lines!\n",
    "    \"\"\"\n",
    "    # TODO: Find high performers\n",
    "    # TODO: Find the average score for high performers\n",
    "    # TODO: create the report strings\n",
    "\n",
    "    pass\n",
    "\n",
    "# Test data\n",
    "test_students = [\n",
    "    {\"name\": \"Alice\", \"score\": 92},\n",
    "    {\"name\": \"Bob\", \"score\": 78},\n",
    "    {\"name\": \"Charlie\", \"score\": 85},\n",
    "    {\"name\": \"Diana\", \"score\": 91},\n",
    "    {\"name\": \"Eve\", \"score\": 67}\n",
    "]\n",
    "\n",
    "# Test both versions\n",
    "verbose_result = process_student_data_verbose(test_students)\n",
    "print(\"Verbose version result:\")\n",
    "print(f\"High performers: {verbose_result[0]}\")\n",
    "print(f\"Average: {verbose_result[1]:.1f}%\")\n",
    "\n",
    "# Uncomment to test your Pythonic version:\n",
    "# pythonic_result = process_student_data_pythonic(test_students)\n",
    "# print(\"\\nPythonic version result:\")\n",
    "# print(f\"High performers: {pythonic_result[0]}\")\n",
    "# print(f\"Average: {pythonic_result[1]:.1f}%\")"
   ]
  },
  {
   "cell_type": "markdown",
   "metadata": {},
   "source": [
    "## Common Bugs and Their Stack Traces\n",
    "\n",
    "Every programmer encounters bugs. The key is learning to read Python's error messages - they're actually quite helpful once you understand them!"
   ]
  },
  {
   "cell_type": "code",
   "execution_count": null,
   "metadata": {},
   "outputs": [],
   "source": [
    "# SyntaxError - Python can't understand your code structure\n",
    "# Look for: missing colons, unmatched parentheses, incorrect indentation\n",
    "\n",
    "# Uncomment to see the error:\n",
    "# if True\n",
    "#     print(\"Missing colon!\")"
   ]
  },
  {
   "cell_type": "code",
   "execution_count": null,
   "metadata": {},
   "outputs": [],
   "source": [
    "# NameError - trying to use a variable that doesn't exist\n",
    "# Check for: typos, using variables before defining them\n",
    "\n",
    "# Uncomment to see the error:\n",
    "# print(undefined_variable)"
   ]
  },
  {
   "cell_type": "code",
   "execution_count": null,
   "metadata": {},
   "outputs": [],
   "source": [
    "# IndexError - trying to access a list position that doesn't exist\n",
    "# Remember: lists start at index 0, and the last index is len(list) - 1\n",
    "\n",
    "# Uncomment to see the error:\n",
    "# my_list = [1, 2, 3]\n",
    "# print(my_list[3])"
   ]
  },
  {
   "cell_type": "code",
   "execution_count": null,
   "metadata": {},
   "outputs": [],
   "source": [
    "# KeyError - trying to access a dictionary key that doesn't exist\n",
    "# Use dict.get('key', default) to safely access keys that might not exist\n",
    "\n",
    "# Uncomment to see the error:\n",
    "# person = {\"name\": \"Alice\", \"age\": 25}\n",
    "# print(person[\"height\"])\n",
    "\n",
    "# Better way to do the above: print(person.get(\"height\", \"Unknown height\"))"
   ]
  },
  {
   "cell_type": "code",
   "execution_count": null,
   "metadata": {},
   "outputs": [],
   "source": [
    "# TypeError - mixing incompatible data types\n",
    "# Convert types first: 'Hello' + str(5) works fine\n",
    "\n",
    "# Uncomment to see the error:\n",
    "# result = \"Hello\" + 5"
   ]
  },
  {
   "cell_type": "code",
   "execution_count": null,
   "metadata": {},
   "outputs": [],
   "source": [
    "# IndentationError - Python is strict about spacing\n",
    "# It uses indentation (4 spaces) to understand code structure\n",
    "\n",
    "# Uncomment to see the error:\n",
    "# def broken_function():\n",
    "# print(\"This line should be indented!\")"
   ]
  },
  {
   "cell_type": "code",
   "execution_count": null,
   "metadata": {},
   "outputs": [],
   "source": [
    "# AttributeError - AttributeError means you're trying to use a method that doesn't exist for that type.\n",
    "\n",
    "# Uncomment to see the error:\n",
    "# my_string = \"hello\"\n",
    "# my_string.append(\"world\")\n",
    "\n",
    "# Strings don't have .append() - that's for lists. Strings use concatenation instead"
   ]
  },
  {
   "cell_type": "markdown",
   "metadata": {},
   "source": [
    "## Reading Stack Traces\n",
    "\n",
    "When Python encounters an error, it prints a \"stack trace\" - a detailed report of what went wrong and where. Here's an example:"
   ]
  },
  {
   "cell_type": "code",
   "execution_count": null,
   "metadata": {},
   "outputs": [],
   "source": [
    "def cause_an_error():\n",
    "    numbers = [1, 2, 3]\n",
    "    return numbers[10]  # This will cause an IndexError\n",
    "\n",
    "# Uncomment to see a full stack trace:\n",
    "# cause_an_error()"
   ]
  },
  {
   "cell_type": "markdown",
   "metadata": {},
   "source": [
    "### Debugging Strategy\n",
    "\n",
    "When you encounter a bug:\n",
    "1. **Read the error message carefully** - it tells you exactly what went wrong\n",
    "2. **Look at the line number** - that's where the error occurred\n",
    "3. **Check the error type** - each type has common causes\n",
    "4. **Work backwards** - trace through your code to understand why the error happened\n",
    "5. **Fix one bug at a time** - don't try to fix everything at once"
   ]
  },
  {
   "cell_type": "markdown",
   "metadata": {},
   "source": [
    "---\n",
    "## Exercise 2: Debugging Challenge\n",
    "\n",
    "The code below has 4 bugs hiding in it. Your mission: find and fix them all! Run the code to see the errors, then use the stack traces to guide your debugging."
   ]
  },
  {
   "cell_type": "code",
   "execution_count": null,
   "metadata": {},
   "outputs": [],
   "source": [
    "# Buggy code - find and fix 4 bugs!\n",
    "\n",
    "class Library:\n",
    "    def __init__(self, name: str):\n",
    "        self.name = name\n",
    "        self.books = []\n",
    "    \n",
    "    def add_book(self, title: str, author: str, pages: int):\n",
    "        book = {\n",
    "            \"title\": title,\n",
    "            \"author\": author,\n",
    "            \"pages\": pages,\n",
    "            \"available\": True\n",
    "        }\n",
    "        self.books.append(book)\n",
    "    \n",
    "    def find_book(self, title: str):\n",
    "        for book in self.books:\n",
    "            if book[\"title\"] == title:\n",
    "                return book\n",
    "        return None\n",
    "\n",
    "    def checkout_book(self, title: str):\n",
    "        book = self.find_book(title)\n",
    "        if book and book[\"available\"]:\n",
    "            book[\"available\"] = False\n",
    "            return f\"Checked out: {title}\"\n",
    "        else:\n",
    "            return f\"Sorry, {title} is not available\"\n",
    "\n",
    "    def get_long_books(self, min_pages: int):\n",
    "        long_books = []\n",
    "        for book in self.books:\n",
    "            if book[\"pages\"] >= min_pages:\n",
    "                long_books.append(book[\"title\"])\n",
    "        return long_books\n",
    "\n",
    "def test_library():\n",
    "    # Create library and add books\n",
    "    lib = Library(\"City Library\")\n",
    "    \n",
    "    lib.add_book(\"Python Crash Course\", \"Eric Matthes\")\n",
    "    book_titles = [book[\"title\"] for book in lib.books]\n",
    "    print(f\"\\nFirst book: {book_titles[1]}\")\n",
    "\n",
    "\n",
    "    lib.add_book(\"The Hobbit\", \"J.R.R. Tolkien\", 310)\n",
    "    lib.add_book(\"Dune\", \"Frank Herbert\", 688)\n",
    "    \n",
    "    print(f\"Library: {lib.name}\")\n",
    "    for book in lib.books:\n",
    "        status = \"Available\" if book[\"available\"] else \"Checked out\"\n",
    "        print(f\"{book['title']} by {book['Author']} - {status}\")\n",
    "    \n",
    "    long_books = lib.get_long_books(\"500\")\n",
    "    print(f\"Books with 500+ pages: {long_books}\")\n",
    "\n",
    "# Run this to see the bugs (one at a time as you fix them):\n",
    "test_library()"
   ]
  },
  {
   "cell_type": "markdown",
   "metadata": {},
   "source": [
    "### Solutions (Try debugging first!)"
   ]
  },
  {
   "cell_type": "code",
   "execution_count": null,
   "metadata": {},
   "outputs": [],
   "source": [
    "# Solution to Exercise 1: Pythonic refactoring\n",
    "\n",
    "def process_student_data_pythonic(students):\n",
    "    # Filter high performers and extract their data in one step\n",
    "    high_performers = [s for s in students if s[\"score\"] > 80]\n",
    "    \n",
    "    # Calculate average using built-in functions\n",
    "    average = sum(s[\"score\"] for s in high_performers) / len(high_performers) if high_performers else 0.0\n",
    "\n",
    "    # Create report lines with f-strings\n",
    "    report_lines = [f\"{s['name']}: {s['score']}%\" for s in high_performers]\n",
    "    \n",
    "    return report_lines, average\n",
    "\n",
    "# Test the Pythonic version\n",
    "pythonic_result = process_student_data_pythonic(test_students)\n",
    "print(\"Pythonic version result:\")\n",
    "print(f\"High performers: {pythonic_result[0]}\")\n",
    "print(f\"Average: {pythonic_result[1]:.1f}%\")"
   ]
  },
  {
   "cell_type": "code",
   "execution_count": null,
   "metadata": {},
   "outputs": [],
   "source": [
    "# Solution to Exercise 2: Fixed library code\n",
    "\n",
    "class Library:\n",
    "    def __init__(self, name: str):\n",
    "        self.name = name\n",
    "        self.books = []\n",
    "\n",
    "    def add_book(self, title: str, author: str, pages: int):\n",
    "        book = {\n",
    "            \"title\": title,\n",
    "            \"author\": author,\n",
    "            \"pages\": pages,\n",
    "            \"available\": True\n",
    "        }\n",
    "        self.books.append(book)\n",
    "    \n",
    "    def find_book(self, title: str):\n",
    "        for book in self.books:\n",
    "            if book[\"title\"] == title:\n",
    "                return book\n",
    "        return None\n",
    "    \n",
    "    def checkout_book(self, title: str):\n",
    "        book = self.find_book(title)\n",
    "        if book and book[\"available\"]:\n",
    "            book[\"available\"] = False\n",
    "            return f\"Checked out: {title}\"\n",
    "        else:\n",
    "            return f\"Sorry, {title} is not available\"\n",
    "    \n",
    "    def get_long_books(self, min_pages: int):\n",
    "        long_books = []\n",
    "        for book in self.books:\n",
    "            if book[\"pages\"] >= min_pages:\n",
    "                long_books.append(book[\"title\"])\n",
    "        return long_books\n",
    "\n",
    "def test_library_fixed():\n",
    "    lib = Library(\"City Library\")\n",
    "    \n",
    "    # Fix 1: Added missing pages argument\n",
    "    lib.add_book(\"Python Crash Course\", \"Eric Matthes\", 544)\n",
    "    # Fix 2: Changed index from 1 to 0 (lists start at 0)\n",
    "    book_titles = [book[\"title\"] for book in lib.books]\n",
    "    print(f\"\\nFirst book: {book_titles[0]}\")\n",
    "\n",
    "    lib.add_book(\"The Hobbit\", \"J.R.R. Tolkien\", 310)\n",
    "    lib.add_book(\"Dune\", \"Frank Herbert\", 688)\n",
    "    \n",
    "    # Fix 3: Changed \"Author\" to \"author\" (case sensitive!)\n",
    "    print(f\"Library: {lib.name}\")\n",
    "    for book in lib.books:\n",
    "        status = \"Available\" if book[\"available\"] else \"Checked out\"\n",
    "        print(f\"{book['title']} by {book['author']} - {status}\")\n",
    "    \n",
    "    # Fix 4: Changed string \"500\" to integer 500\n",
    "    long_books = lib.get_long_books(500)\n",
    "    print(f\"Books with 500+ pages: {long_books}\")\n",
    "\n",
    "# This version should run without errors:\n",
    "test_library_fixed()"
   ]
  },
  {
   "cell_type": "markdown",
   "metadata": {},
   "source": [
    "## Common Python Libraries\n",
    "\n",
    "Just before we wrap up, we wanted to showcase some python libraries that you might find useful for side projects.\n",
    "\n",
    "### What are Python Modules and Libraries?\n",
    "\n",
    "Python modules are files containing Python code that you can import and use in your programs. Think of them as toolboxes - instead of building every tool from scratch, you can use pre-built tools that experts have already created and tested.\n",
    "\n",
    "**The problem modules solve**: Without modules, every programmer would have to write code for common tasks like making web requests, working with dates, or processing data. Modules let you leverage the work of other experts instead of having to reinvent the wheel.\n",
    "\n",
    "**Libraries vs. Modules**: A module is a single Python file, while a library is a collection of related modules. In practice, people often use these terms interchangeably.\n",
    "\n",
    "### Finding and Installing Libraries\n",
    "\n",
    "**PyPI (Python Package Index)**: [https://pypi.org](https://pypi.org) is the official repository for Python packages. It contains over 400,000 packages covering everything from web development to machine learning. Any developer (maybe even you one day) can contribute to Pypi by publishing their own packages for others to use.\n",
    "\n",
    "**Installing packages**: Use `pip install package-name` to install any package from PyPI.\n",
    "\n",
    "**Finding documentation**: \n",
    "- Check the package's PyPI page for links to documentation\n",
    "- Most packages host their documentation on [readthedocs.io](https://readthedocs.io): `https://package-name.readthedocs.io`\n",
    "- Use `help(module_name)` in Python to see built-in documentation\n",
    "- Check the package's GitHub repository for examples and README files\n",
    "\n",
    "With that out of the way, let's look at some packages\n",
    "\n",
    "---"
   ]
  },
  {
   "cell_type": "markdown",
   "metadata": {},
   "source": [
    "### Standard Library (Built into Python)\n",
    "\n",
    "#### `os` - Operating System Interface\n",
    "Work with files, directories, and system operations."
   ]
  },
  {
   "cell_type": "code",
   "execution_count": null,
   "metadata": {},
   "outputs": [],
   "source": [
    "import os\n",
    "\n",
    "os.getcwd()                    # Get current working directory\n",
    "os.listdir('.')               # List files in current directory\n",
    "os.path.exists('file.txt')    # Check if file exists\n",
    "os.makedirs('new_folder')     # Create directories\n",
    "os.path.join('folder', 'file.txt')  # Build file paths safely"
   ]
  },
  {
   "cell_type": "markdown",
   "metadata": {},
   "source": [
    "#### `datetime` - Date and Time Handling\n",
    "Handle dates, times, and time calculations."
   ]
  },
  {
   "cell_type": "code",
   "execution_count": null,
   "metadata": {},
   "outputs": [],
   "source": [
    "from datetime import datetime, timedelta\n",
    "\n",
    "datetime.now()                 # Current date and time\n",
    "datetime.strptime('2024-01-15', '%Y-%m-%d')  # Parse string to date\n",
    "datetime.now() + timedelta(days=7)  # Add 7 days to current date\n",
    "datetime.now().strftime('%Y-%m-%d')  # Format date as string"
   ]
  },
  {
   "cell_type": "markdown",
   "metadata": {},
   "source": [
    "#### `json` - JSON Data Processing\n",
    "Work with JSON data (common in web APIs and config files)."
   ]
  },
  {
   "cell_type": "code",
   "execution_count": null,
   "metadata": {},
   "outputs": [],
   "source": [
    "import json\n",
    "\n",
    "json.dumps({'name': 'Alice'})  # Convert Python dict to JSON string\n",
    "json.loads('{\"name\": \"Alice\"}')  # Convert JSON string to Python dict\n",
    "json.dump(data, open('file.json', 'w'))  # Save data to JSON file\n",
    "json.load(open('file.json', 'r'))  # Load data from JSON file"
   ]
  },
  {
   "cell_type": "markdown",
   "metadata": {},
   "source": [
    "\n",
    "#### `random` - Random Number Generation\n",
    "Generate random numbers and make random choices."
   ]
  },
  {
   "cell_type": "code",
   "execution_count": null,
   "metadata": {},
   "outputs": [],
   "source": [
    "import random\n",
    "\n",
    "random.randint(1, 10)          # Random integer between 1 and 10\n",
    "random.choice(['apple', 'banana', 'cherry'])  # Pick random item from list\n",
    "random.shuffle(my_list)        # Randomly reorder a list\n",
    "random.random()                # Random float between 0 and 1\n",
    "random.sample(population, 3)   # Pick 3 random items without replacement"
   ]
  },
  {
   "cell_type": "markdown",
   "metadata": {},
   "source": [
    "#### `collections` - Specialized Data Structures\n",
    "For now, we'll just note there are more powerful alternatives to basic lists and dictionaries. You'll learn more about what else is available after your first algorithms and data structures course."
   ]
  },
  {
   "cell_type": "code",
   "execution_count": null,
   "metadata": {},
   "outputs": [],
   "source": [
    "from collections import Counter, defaultdict\n",
    "\n",
    "Counter(['a', 'b', 'a', 'c', 'b', 'a'])  # Count occurrences: {'a': 3, 'b': 2, 'c': 1}\n",
    "defaultdict(list)              # Dictionary that creates missing keys automatically\n",
    "Counter(text).most_common(3)   # Get 3 most frequent items"
   ]
  },
  {
   "cell_type": "markdown",
   "metadata": {},
   "source": [
    "---\n",
    "\n",
    "### Essential Third-Party Libraries\n",
    "\n",
    "Note: you'll have to run `pip install requests pandas matplotlib numpy` if you want to run the code blocks below.\n",
    "\n",
    "#### `requests` - HTTP Requests Made Simple\n",
    "Make web requests and work with APIs."
   ]
  },
  {
   "cell_type": "code",
   "execution_count": null,
   "metadata": {},
   "outputs": [],
   "source": [
    "import requests\n",
    "\n",
    "response = requests.get('https://api.github.com/users/octocat')\n",
    "response.json()                # Parse JSON response\n",
    "requests.post(url, data={'key': 'value'})  # Send POST request\n",
    "response.status_code           # Check if request succeeded (200 = success)\n",
    "requests.get(url, timeout=5)   # Set timeout to avoid hanging"
   ]
  },
  {
   "cell_type": "markdown",
   "metadata": {},
   "source": [
    "#### `pandas` - Data Analysis and Manipulation\n",
    "The go-to library for working with structured data (Excel files, CSV, databases). We'll look at it more in future workshops."
   ]
  },
  {
   "cell_type": "code",
   "execution_count": null,
   "metadata": {},
   "outputs": [],
   "source": [
    "import pandas as pd\n",
    "\n",
    "pd.read_csv('data.csv')        # Load CSV file into DataFrame\n",
    "df.head()                      # View first 5 rows\n",
    "df.describe()                  # Get statistical summary\n",
    "df.groupby('column').mean()    # Group data and calculate averages\n",
    "df.to_excel('output.xlsx')     # Save DataFrame to Excel file"
   ]
  },
  {
   "cell_type": "markdown",
   "metadata": {},
   "source": [
    "#### `matplotlib` - Data Visualization\n",
    "Create charts and graphs from your data. We'll use it in future workshops."
   ]
  },
  {
   "cell_type": "code",
   "execution_count": null,
   "metadata": {},
   "outputs": [],
   "source": [
    "import matplotlib.pyplot as plt\n",
    "\n",
    "plt.plot([1, 2, 3, 4], [1, 4, 9, 16])  # Line plot\n",
    "plt.bar(['A', 'B', 'C'], [1, 3, 2])    # Bar chart\n",
    "plt.scatter(x_values, y_values)         # Scatter plot\n",
    "plt.hist(data, bins=20)                 # Histogram\n",
    "plt.show()                              # Display the plot"
   ]
  },
  {
   "cell_type": "markdown",
   "metadata": {},
   "source": [
    "#### `numpy` - Numerical Computing\n",
    "Fast mathematical operations on large arrays of numbers. We might use this at the end of the term, but there are definitely less low-level libraries available. Still, this is useful whenever you want to do a bunch of math (happens all the time, even outside of ML)."
   ]
  },
  {
   "cell_type": "code",
   "execution_count": null,
   "metadata": {},
   "outputs": [],
   "source": [
    "import numpy as np\n",
    "\n",
    "a = np.array([1, 2, 3, 4])         # Create array from list\n",
    "z = np.zeros(10)                   # Array of 10 zeros\n",
    "r = np.random.randint(0, 100, 20)  # 20 random integers between 0-100\n",
    "result = a + r                     # Element-wise addition (much faster than loops)\n",
    "avg = np.mean(result)              # Calculate average\n",
    "\n",
    "print(r)\n",
    "print(result)\n",
    "print(avg)"
   ]
  },
  {
   "cell_type": "markdown",
   "metadata": {},
   "source": [
    "### How to Learn New Libraries\n",
    "\n",
    "1. **Start with the official documentation** - most libraries have excellent getting-started guides\n",
    "2. **Look for \"quickstart\" or \"tutorial\" sections** - these show common use cases\n",
    "3. **Check examples on GitHub** - search for repositories using the library\n",
    "4. **Use help() in Python**: `help(pandas.DataFrame)` shows built-in documentation\n",
    "5. **Read the docstrings**: Use `library.function.__doc__` to see function documentation\n",
    "\n",
    "### Installation Tips\n",
    "\n",
    "```bash\n",
    "# Always use virtual environments for projects\n",
    "python -m venv myproject-env\n",
    "source myproject-env/bin/activate\n",
    "\n",
    "# Install specific versions if needed\n",
    "pip install pandas==1.5.0\n",
    "\n",
    "# Save your project dependencies\n",
    "pip freeze > requirements.txt\n",
    "\n",
    "# Install from requirements file (useful when sharing projects)\n",
    "pip install -r requirements.txt\n",
    "```\n",
    "\n",
    "### Next Steps\n",
    "\n",
    "These libraries form the foundation of most Python projects. As you work on specific domains, you'll discover specialized libraries:\n",
    "- **Web development**: Flask, Django, FastAPI\n",
    "- **Machine learning**: scikit-learn, TensorFlow, PyTorch\n",
    "- **Image processing**: Pillow, OpenCV\n",
    "- **GUI applications**: tkinter, PyQt, Kivy\n",
    "\n",
    "The key is learning to read documentation and adapt examples to your specific needs. Every expert started by copying examples and modifying them - that's how you develop intuition for how libraries work."
   ]
  },
  {
   "cell_type": "markdown",
   "metadata": {},
   "source": [
    "## Final Thoughts\n",
    "\n",
    "You've now learned the essential Python skills:\n",
    "- **Writing clean, readable code** that other programmers (including future you) will appreciate\n",
    "- **Debugging systematically** using error messages as guides rather than obstacles\n",
    "- **Thinking like a Python programmer** with concise, elegant solutions\n",
    "\n",
    "**Debugging mindset**: Errors aren't failures - they're Python's way of helping you write better code. Every experienced programmer has seen these errors thousands of times. The difference is they've learned to read the clues Python provides.\n",
    "\n",
    "**Next steps**: Create a tiny Python project related to one of your hobbies using the above libraries. Ask ChatGPT for help with ideas or troubleshooting. In the next workshop, we'll get started exploring machine learning libraries!"
   ]
  }
 ],
 "metadata": {
  "kernelspec": {
   "display_name": ".venv",
   "language": "python",
   "name": "python3"
  },
  "language_info": {
   "codemirror_mode": {
    "name": "ipython",
    "version": 3
   },
   "file_extension": ".py",
   "mimetype": "text/x-python",
   "name": "python",
   "nbconvert_exporter": "python",
   "pygments_lexer": "ipython3",
   "version": "3.12.3"
  }
 },
 "nbformat": 4,
 "nbformat_minor": 4
}
