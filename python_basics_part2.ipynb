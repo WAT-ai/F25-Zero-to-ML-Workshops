{
 "cells": [
  {
   "cell_type": "markdown",
   "metadata": {},
   "source": [
    "# Python Basics Part 2: Making Decisions and Building Objects\n",
    "\n",
    "Welcome back! In Part 1, you learned Python's building blocks. Now we'll make your code smart with decision-making and teach it to repeat tasks automatically.\n",
    "\n",
    "Think of this as upgrading from a calculator to a computer - we're adding logic and automation!"
   ]
  },
  {
   "cell_type": "markdown",
   "metadata": {},
   "source": [
    "## Conditionals: Teaching Your Code to Make Decisions\n",
    "\n",
    "Conditionals let your program choose different paths based on conditions. It's like a flowchart that says \"If this, then that.\""
   ]
  },
  {
   "cell_type": "code",
   "execution_count": null,
   "metadata": {},
   "outputs": [],
   "source": [
    "# Basic if-else structure\n",
    "def check_temperature(temp):\n",
    "    if temp > 25:\n",
    "        return \"It's warm outside!\"\n",
    "    elif temp > 15:\n",
    "        return \"It's mild - perfect weather!\"\n",
    "    else:\n",
    "        return \"It's cold - grab a jacket!\"\n",
    "\n",
    "print(check_temperature(30))  # It's warm outside!\n",
    "print(check_temperature(20))  # It's mild - perfect weather!\n",
    "print(check_temperature(5))   # It's cold - grab a jacket!"
   ]
  },
  {
   "cell_type": "code",
   "execution_count": null,
   "metadata": {},
   "outputs": [],
   "source": [
    "# You can check if values exist or are in collections\n",
    "def ingredient_checker(pantry, needed_ingredient):\n",
    "    if not pantry or not needed_ingredient:\n",
    "        return \"Pantry or ingredient cannot be empty\"\n",
    "    elif needed_ingredient in pantry:\n",
    "        return f\"Great! You have {needed_ingredient}\"\n",
    "    else:\n",
    "        return f\"Oops! You need to buy {needed_ingredient}\"\n",
    "\n",
    "my_pantry = [\"eggs\", \"milk\", \"flour\", \"sugar\"]\n",
    "print(ingredient_checker(my_pantry, \"eggs\"))      # Great! You have eggs\n",
    "print(ingredient_checker(my_pantry, \"chocolate\")) # Oops! You need to buy chocolate\n",
    "print(ingredient_checker(my_pantry, \"\"))          # Pantry or ingredient cannot be empty\n",
    "print(ingredient_checker(None, None))             # Pantry or ingredient cannot be empty"
   ]
  },
  {
   "cell_type": "code",
   "execution_count": null,
   "metadata": {},
   "outputs": [],
   "source": [
    "# Checking for empty/missing values is a common pattern\n",
    "# We call it data validation (making sure your function performs operations on data it's built for)\n",
    "def safe_greeting(name):\n",
    "    if name:\n",
    "        return f\"Hello, {name}!\"\n",
    "    else:\n",
    "        return \"Hello, mysterious stranger!\"\n",
    "\n",
    "print(safe_greeting(\"Alice\"))   # Hello, Alice!\n",
    "print(safe_greeting(None))      # Hello, mysterious stranger!\n",
    "print(safe_greeting(\"\"))        # Hello, mysterious stranger!"
   ]
  },
  {
   "cell_type": "markdown",
   "metadata": {},
   "source": [
    "**Remember**: Python considers empty strings, zero, empty lists, and None as \"falsy\" - they evaluate to False in conditions."
   ]
  },
  {
   "cell_type": "markdown",
   "metadata": {},
   "source": [
    "## Loops: Automating Repetitive Tasks\n",
    "\n",
    "Loops let you repeat code without copy-pasting. There are two main types: `for` loops (when you know how many times you want to repeat something) and `while` loops (when you repeat as many times as needed until a condition is met)."
   ]
  },
  {
   "cell_type": "code",
   "execution_count": null,
   "metadata": {},
   "outputs": [],
   "source": [
    "# For loops - repeat a specific number of times\n",
    "print(\"Counting to 5:\")\n",
    "for i in range(1, 6):  # range(start, stop) - stop is not included in the range\n",
    "    print(f\"Count: {i}\")\n",
    "\n",
    "# Note: under the hood, range() is just another prebuilt python function that \n",
    "# returns a list-like data type:\n",
    "print( list(range(1, 6)) )\n",
    "\n",
    "# \"\\n\" means new line. Just using it to make the output prettier\n",
    "print(\"\\nSquares of first 5 numbers:\")\n",
    "# You don't have to include the start if start = 0 is implicitly fine\n",
    "for num in range(5):\n",
    "    square = (num+1) ** 2\n",
    "    print(f\"{num+1} squared is {square}\")\n",
    "\n",
    "# Finally, note that like list indexing, you can call range(start, stop, step)\n",
    "print(\"\\nOdd numbers\")\n",
    "for i in range(1, 10, 2):  # This will print odd numbers between 1 and 9\n",
    "    print(f\"Odd number: {i}\")"
   ]
  },
  {
   "cell_type": "code",
   "execution_count": null,
   "metadata": {},
   "outputs": [],
   "source": [
    "# For loops with lists - process each item\n",
    "fruits = [\"apple\", \"banana\", \"cherry\"]\n",
    "\n",
    "print(\"I have these fruits:\")\n",
    "for fruit in fruits:\n",
    "    print(f\"- {fruit}\")\n",
    "\n",
    "# Sometimes you need both the item and its position\n",
    "print(\"\\nNumbered list:\")\n",
    "for index, fruit in enumerate(fruits):\n",
    "    print(f\"{index + 1}. {fruit}\")\n",
    "\n",
    "# For clarity: \n",
    "print( list(enumerate(fruits)) )"
   ]
  },
  {
   "cell_type": "code",
   "execution_count": null,
   "metadata": {},
   "outputs": [],
   "source": [
    "# While loops - repeat until a condition becomes false\n",
    "def countdown(start_number):\n",
    "    current = start_number\n",
    "    while current > 0:\n",
    "        print(f\"T-minus {current}\")\n",
    "        current = current - 1  # Don't forget to change the condition!\n",
    "    print(\"Blast off!\")\n",
    "\n",
    "countdown(5)"
   ]
  },
  {
   "cell_type": "markdown",
   "metadata": {},
   "source": [
    "**Warning**: Be careful with while loops! If the condition never becomes False, your loop will run forever. Always make sure something inside the loop changes the condition."
   ]
  },
  {
   "cell_type": "markdown",
   "metadata": {},
   "source": [
    "---\n",
    "## Exercise 1: Grade Calculator\n",
    "\n",
    "Create a function that calculates letter grades and provides feedback. Use conditionals to determine the grade and loops to process multiple scores."
   ]
  },
  {
   "cell_type": "code",
   "execution_count": null,
   "metadata": {},
   "outputs": [],
   "source": [
    "def calculate_letter_grade(score: int) -> str:\n",
    "    \"\"\"\n",
    "    Convert a numerical score to a letter grade.\n",
    "    \n",
    "    Grade scale:\n",
    "    90+ = A\n",
    "    80-89 = B  \n",
    "    70-79 = C\n",
    "    60-69 = D\n",
    "    Below 60 = F\n",
    "    \"\"\"\n",
    "    # TODO: Use if/elif/else to return the appropriate letter grade\n",
    "    pass\n",
    "\n",
    "def process_class_grades(student_scores: dict[str, int]) -> None:\n",
    "    \"\"\"\n",
    "    Process a list of student scores and display grades per student and the class\n",
    "    average.\n",
    "    \n",
    "    Parameters:\n",
    "    student_scores (dict): Dictionary with student names as keys and scores as values\n",
    "    \"\"\"\n",
    "    # TODO: Loop through the student_scores dictionary\n",
    "    # For each student, print their name, score, and letter grade (hint: use the above function)\n",
    "    # Also calculate and print the class average (hint: use the avg(list) function)\n",
    "\n",
    "    # Hints: check out the below methods that help you access dict data\n",
    "    print( student_scores.keys() )\n",
    "    print( student_scores.values() )\n",
    "    print( student_scores.items() )\n",
    "    # What can you do with a for loop and this information?\n",
    "\n",
    "    pass\n",
    "\n",
    "# Test data\n",
    "class_scores = {\n",
    "    \"Alice\": 92,\n",
    "    \"Bob\": 78,\n",
    "    \"Charlie\": 85,\n",
    "    \"Diana\": 91,\n",
    "    \"Eve\": 67\n",
    "}\n",
    "\n",
    "# Uncomment to test your functions:\n",
    "# process_class_grades(class_scores)"
   ]
  },
  {
   "cell_type": "markdown",
   "metadata": {},
   "source": [
    "## Classes: Creating Your Own Data Types\n",
    "\n",
    "Classes are templates for creating objects. Think of a class as a cookie cutter and objects as the cookies it makes - same shape, but each cookie can have different decorations."
   ]
  },
  {
   "cell_type": "code",
   "execution_count": null,
   "metadata": {},
   "outputs": [],
   "source": [
    "class DogSimple:\n",
    "    species = \"Canis lupus\"   # Class attribute - shared by all dogs\n",
    "\n",
    "    # This is a method (like a function, but it can access class data)\n",
    "    def bark(self):\n",
    "        return \"Woof!\"\n",
    "\n",
    "# charlie is an 'instance'/object of the DogSimple class.\n",
    "charlie = DogSimple()\n",
    "charlie.bark()"
   ]
  },
  {
   "cell_type": "code",
   "execution_count": null,
   "metadata": {},
   "outputs": [],
   "source": [
    "class Dog:\n",
    "    species = \"Canis lupus\"   # Class attribute - shared by all dogs\n",
    "\n",
    "    # Constructor\n",
    "    # Special method that automatically gets called when creating an instance\n",
    "    def __init__(self, name, age):\n",
    "        self.name = name      # Instance attributes - unique to each dog\n",
    "        self.age = age\n",
    "    \n",
    "    # We now see the method accessing class-specific data\n",
    "    # (this is what makes it different from just any old function)\n",
    "    def bark(self):\n",
    "        return f\"{self.name} says Woof!\"\n",
    "\n",
    "# Creating objects (instances) from the class\n",
    "buddy = Dog(\"Buddy\", 3)\n",
    "max_dog = Dog(\"Max\", 7)\n",
    "\n",
    "print(buddy.bark())           # Buddy says Woof!\n",
    "print(max_dog.bark())         # Max says Woof!"
   ]
  },
  {
   "cell_type": "code",
   "execution_count": null,
   "metadata": {},
   "outputs": [],
   "source": [
    "# Classes can inherit from other classes (like family traits)\n",
    "class Animal:\n",
    "    def __init__(self, name):\n",
    "        self.name = name\n",
    "    \n",
    "    def sleep(self):\n",
    "        return f\"{self.name} is sleeping...\"\n",
    "\n",
    "class Cat(Animal):                      # Cat inherits from Animal\n",
    "    def __init__(self, name, indoor):\n",
    "        super().__init__(name)          # Call the parent class's constructor\n",
    "        self.indoor = indoor\n",
    "    \n",
    "    def meow(self):\n",
    "        return f\"{self.name} says Meow!\"\n",
    "\n",
    "whiskers = Cat(\"Whiskers\", True)\n",
    "print(whiskers.meow())                  # Whiskers says Meow!\n",
    "print(whiskers.sleep())                 # Whiskers is sleeping... (inherited from Animal!)"
   ]
  },
  {
   "cell_type": "markdown",
   "metadata": {},
   "source": [
    "**Key concepts**:\n",
    "- `__init__` is a special method that runs when you create a new object\n",
    "- `self` refers to the specific object you're working with\n",
    "- Instance attributes (like `self.name`) are unique to each object\n",
    "- Class attributes (like `species`) are shared by all objects of that class\n",
    "- We can derive child classes from parent classes. This allows us to better organize and reuse code, as shown in the following diagram:\n",
    "\n",
    "![Class inheritance diagram](./class_inheritance_diagram.png)"
   ]
  },
  {
   "cell_type": "markdown",
   "metadata": {},
   "source": [
    "---\n",
    "## Exercise 2: Bank Account Class\n",
    "\n",
    "Create a `BankAccount` class that can handle deposits, withdrawals, and balance inquiries. This exercise combines classes with conditionals."
   ]
  },
  {
   "cell_type": "code",
   "execution_count": null,
   "metadata": {},
   "outputs": [],
   "source": [
    "class BankAccount:\n",
    "    # Note: this syntax automatically sets balance to 0 if you don't specify it\n",
    "    # Ex: account = BankAccount(\"Alice\") sets initial balance 0\n",
    "    # Ex: account = BankAccount(\"Bob\", 100) sets initial balance 100\n",
    "    def __init__(self, account_holder: str, initial_balance: float = 0.0):\n",
    "        \"\"\"\n",
    "        Initialize a new bank account.\n",
    "        \n",
    "        Parameters:\n",
    "        account_holder (str): Name of the account holder\n",
    "        initial_balance (float): Starting balance (default 0)\n",
    "        \"\"\"\n",
    "        # TODO: Set up owner_name and balance as instance attributes\n",
    "        pass\n",
    "    \n",
    "    def deposit(self, amount: float) -> str:\n",
    "        \"\"\"\n",
    "        Add money to the account.\n",
    "        \n",
    "        Parameters:\n",
    "        amount (float): Amount to deposit\n",
    "        \n",
    "        Returns:\n",
    "        str: Success message with new balance\n",
    "        \"\"\"\n",
    "        # TODO: Add the amount to the balance\n",
    "        # Return a message like \"Deposited $50.00. New balance: $150.00\"\n",
    "\n",
    "        # HINT: You can use f-strings for formatting decimals nicely if you want\n",
    "        # Example: f\"{num:.2f}\" prints a number formatted to two decimal points\n",
    "        # Example f\"{num:.1f}\" prints a number formatted to one decimal point\n",
    "        pass\n",
    "    \n",
    "    def withdraw(self, amount: float) -> str:\n",
    "        \"\"\"\n",
    "        Remove money from the account if sufficient funds exist.\n",
    "        \n",
    "        Parameters:\n",
    "        amount (float): Amount to withdraw\n",
    "        \n",
    "        Returns:\n",
    "        str: Success or failure message\n",
    "        \"\"\"\n",
    "        # TODO: Check if there's enough money in the account\n",
    "        # If yes, subtract the amount and return success message\n",
    "        # If no, return an error message (don't change the balance)\n",
    "        pass\n",
    "    \n",
    "    def get_balance(self) -> str:\n",
    "        \"\"\"\n",
    "        Get the current account balance.\n",
    "        \n",
    "        Returns:\n",
    "        str: Formatted balance message\n",
    "        \"\"\"\n",
    "        # TODO: Return the current balance in a nice format\n",
    "        # Like \"Alice's account balance: $125.50\"\n",
    "        pass\n",
    "\n",
    "# Test your class here:\n",
    "# Uncomment these lines after completing the class above\n",
    "\n",
    "# account = BankAccount(\"Alice\", 100)\n",
    "# print(account.get_balance())\n",
    "# print(account.deposit(50))\n",
    "# print(account.withdraw(25))\n",
    "# print(account.withdraw(200))  # Should fail - not enough money\n",
    "# print(account.get_balance())"
   ]
  },
  {
   "cell_type": "markdown",
   "metadata": {},
   "source": [
    "### Solutions (Try the exercises first!)"
   ]
  },
  {
   "cell_type": "code",
   "execution_count": null,
   "metadata": {},
   "outputs": [],
   "source": [
    "# Solution to Exercise 1: Grade Calculator\n",
    "\n",
    "def calculate_letter_grade(score):\n",
    "    if score >= 90:\n",
    "        return \"A\"\n",
    "    elif score >= 80:\n",
    "        return \"B\"\n",
    "    elif score >= 70:\n",
    "        return \"C\"\n",
    "    elif score >= 60:\n",
    "        return \"D\"\n",
    "    else:\n",
    "        return \"F\"\n",
    "\n",
    "def process_class_grades(student_scores):\n",
    "    print(\"Class Grade Report\")\n",
    "    # * operator on a string just repeats it a bunch (\"===================\")\n",
    "    print(\"=\" * 25)\n",
    "    \n",
    "    total_score = 0\n",
    "    for student, score in student_scores.items():\n",
    "        letter_grade = calculate_letter_grade(score)\n",
    "        print(f\"{student}: {score}% ({letter_grade})\")\n",
    "        total_score += score\n",
    "    \n",
    "    average = total_score / len(student_scores)\n",
    "    class_letter_grade = calculate_letter_grade(average)\n",
    "    print(f\"\\nClass Average: {average}% ({class_letter_grade})\")\n",
    "\n",
    "# Test the solution\n",
    "class_scores = {\n",
    "    \"Alice\": 92,\n",
    "    \"Bob\": 78,\n",
    "    \"Charlie\": 85,\n",
    "    \"Diana\": 91,\n",
    "    \"Eve\": 67\n",
    "}\n",
    "\n",
    "process_class_grades(class_scores)"
   ]
  },
  {
   "cell_type": "code",
   "execution_count": null,
   "metadata": {},
   "outputs": [],
   "source": [
    "# Solution to Exercise 2: Bank Account Class\n",
    "\n",
    "class BankAccount:\n",
    "    def __init__(self, account_holder, initial_balance=0):\n",
    "        self.account_holder = account_holder\n",
    "        self.balance = initial_balance\n",
    "    \n",
    "    def deposit(self, amount):\n",
    "        self.balance += amount\n",
    "        return f\"Deposited ${amount:.2f}. New balance: ${self.balance:.2f}\"\n",
    "    \n",
    "    def withdraw(self, amount):\n",
    "        if amount <= self.balance:\n",
    "            self.balance -= amount\n",
    "            return f\"Withdrew ${amount:.2f}. New balance: ${self.balance:.2f}\"\n",
    "        else:\n",
    "            return f\"Insufficient funds! You only have ${self.balance:.2f}\"\n",
    "    \n",
    "    def get_balance(self):\n",
    "        return f\"{self.account_holder}'s account balance: ${self.balance:.2f}\"\n",
    "\n",
    "# Test the solution\n",
    "account = BankAccount(\"Alice\", 100)\n",
    "print(account.get_balance())\n",
    "print(account.deposit(50))\n",
    "print(account.withdraw(25))\n",
    "print(account.withdraw(200))  # Should fail\n",
    "print(account.get_balance())"
   ]
  },
  {
   "cell_type": "markdown",
   "metadata": {},
   "source": [
    "## What You've Accomplished\n",
    "\n",
    "You now understand the core concepts that power almost every Python program:\n",
    "\n",
    "- **Conditionals** let your programs make smart decisions\n",
    "- **Loops** automate repetitive tasks efficiently\n",
    "- **Classes** help you organize code and model real-world concepts\n",
    "\n",
    "These aren't just academic concepts - they're the tools professional developers use every day to build websites, analyze data, create games, and solve complex problems.\n",
    "\n",
    "**Next steps**: To get you feeling comfortable with Python, we'll finally show you some tips and tricks + common bugs in Part 3. Our goal is to get you feeling ready to try writing your own python code without fear! 💪"
   ]
  }
 ],
 "metadata": {
  "kernelspec": {
   "display_name": ".venv",
   "language": "python",
   "name": "python3"
  },
  "language_info": {
   "codemirror_mode": {
    "name": "ipython",
    "version": 3
   },
   "file_extension": ".py",
   "mimetype": "text/x-python",
   "name": "python",
   "nbconvert_exporter": "python",
   "pygments_lexer": "ipython3",
   "version": "3.12.3"
  }
 },
 "nbformat": 4,
 "nbformat_minor": 4
}
