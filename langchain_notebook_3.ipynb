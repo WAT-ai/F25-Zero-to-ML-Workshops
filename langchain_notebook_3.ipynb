{
 "cells": [
  {
   "cell_type": "markdown",
   "metadata": {},
   "source": [
    "# Langchain Workshop 3: Tools, Agents, and Vectorstores\n",
    "\n",
    "Welcome back! Today we're diving into some of the most powerful features of Langchain:\n",
    "\n",
    "1. **Tools** - Custom functions that extend what LLMs can do\n",
    "2. **Agents** - LLMs that can decide which tools to use and when\n",
    "3. **Vectorstores** - Semantic search for finding relevant information\n",
    "\n",
    "Let's get started!"
   ]
  },
  {
   "cell_type": "code",
   "execution_count": 3,
   "metadata": {},
   "outputs": [
    {
     "name": "stdout",
     "output_type": "stream",
     "text": [
      "Requirement already satisfied: langchain in ./.venv/lib/python3.12/site-packages (0.3.27)\n",
      "Requirement already satisfied: langchain-openai in ./.venv/lib/python3.12/site-packages (0.3.35)\n",
      "Requirement already satisfied: langchain-community in ./.venv/lib/python3.12/site-packages (0.3.31)\n",
      "Requirement already satisfied: faiss-cpu in ./.venv/lib/python3.12/site-packages (1.12.0)\n",
      "Requirement already satisfied: python-dotenv in ./.venv/lib/python3.12/site-packages (1.1.1)\n",
      "Collecting langgraph\n",
      "  Using cached langgraph-0.6.8-py3-none-any.whl.metadata (6.8 kB)\n",
      "Requirement already satisfied: requests in ./.venv/lib/python3.12/site-packages (2.32.5)\n",
      "Collecting beautifulsoup4\n",
      "  Using cached beautifulsoup4-4.14.2-py3-none-any.whl.metadata (3.8 kB)\n",
      "Collecting wikipedia\n",
      "  Using cached wikipedia-1.4.0-py3-none-any.whl\n",
      "Requirement already satisfied: langchain-core<1.0.0,>=0.3.72 in ./.venv/lib/python3.12/site-packages (from langchain) (0.3.78)\n",
      "Requirement already satisfied: langchain-text-splitters<1.0.0,>=0.3.9 in ./.venv/lib/python3.12/site-packages (from langchain) (0.3.11)\n",
      "Requirement already satisfied: langsmith>=0.1.17 in ./.venv/lib/python3.12/site-packages (from langchain) (0.4.33)\n",
      "Requirement already satisfied: pydantic<3.0.0,>=2.7.4 in ./.venv/lib/python3.12/site-packages (from langchain) (2.12.0)\n",
      "Requirement already satisfied: SQLAlchemy<3,>=1.4 in ./.venv/lib/python3.12/site-packages (from langchain) (2.0.43)\n",
      "Requirement already satisfied: PyYAML>=5.3 in ./.venv/lib/python3.12/site-packages (from langchain) (6.0.3)\n",
      "Requirement already satisfied: openai<3.0.0,>=1.104.2 in ./.venv/lib/python3.12/site-packages (from langchain-openai) (2.2.0)\n",
      "Requirement already satisfied: tiktoken<1.0.0,>=0.7.0 in ./.venv/lib/python3.12/site-packages (from langchain-openai) (0.12.0)\n",
      "Requirement already satisfied: aiohttp<4.0.0,>=3.8.3 in ./.venv/lib/python3.12/site-packages (from langchain-community) (3.13.0)\n",
      "Requirement already satisfied: tenacity!=8.4.0,<10.0.0,>=8.1.0 in ./.venv/lib/python3.12/site-packages (from langchain-community) (9.1.2)\n",
      "Requirement already satisfied: dataclasses-json<0.7.0,>=0.6.7 in ./.venv/lib/python3.12/site-packages (from langchain-community) (0.6.7)\n",
      "Requirement already satisfied: pydantic-settings<3.0.0,>=2.10.1 in ./.venv/lib/python3.12/site-packages (from langchain-community) (2.11.0)\n",
      "Requirement already satisfied: httpx-sse<1.0.0,>=0.4.0 in ./.venv/lib/python3.12/site-packages (from langchain-community) (0.4.2)\n",
      "Requirement already satisfied: numpy>=1.26.2 in ./.venv/lib/python3.12/site-packages (from langchain-community) (2.3.3)\n",
      "Requirement already satisfied: packaging in ./.venv/lib/python3.12/site-packages (from faiss-cpu) (25.0)\n",
      "Collecting langgraph-checkpoint<3.0.0,>=2.1.0 (from langgraph)\n",
      "  Downloading langgraph_checkpoint-2.1.2-py3-none-any.whl.metadata (4.2 kB)\n",
      "Collecting langgraph-prebuilt<0.7.0,>=0.6.0 (from langgraph)\n",
      "  Using cached langgraph_prebuilt-0.6.4-py3-none-any.whl.metadata (4.5 kB)\n",
      "Collecting langgraph-sdk<0.3.0,>=0.2.2 (from langgraph)\n",
      "  Using cached langgraph_sdk-0.2.9-py3-none-any.whl.metadata (1.5 kB)\n",
      "Collecting xxhash>=3.5.0 (from langgraph)\n",
      "  Downloading xxhash-3.6.0-cp312-cp312-manylinux2014_x86_64.manylinux_2_17_x86_64.manylinux_2_28_x86_64.whl.metadata (13 kB)\n",
      "Requirement already satisfied: charset_normalizer<4,>=2 in ./.venv/lib/python3.12/site-packages (from requests) (3.4.3)\n",
      "Requirement already satisfied: idna<4,>=2.5 in ./.venv/lib/python3.12/site-packages (from requests) (3.10)\n",
      "Requirement already satisfied: urllib3<3,>=1.21.1 in ./.venv/lib/python3.12/site-packages (from requests) (2.5.0)\n",
      "Requirement already satisfied: certifi>=2017.4.17 in ./.venv/lib/python3.12/site-packages (from requests) (2025.10.5)\n",
      "Collecting soupsieve>1.2 (from beautifulsoup4)\n",
      "  Using cached soupsieve-2.8-py3-none-any.whl.metadata (4.6 kB)\n",
      "Requirement already satisfied: typing-extensions>=4.0.0 in ./.venv/lib/python3.12/site-packages (from beautifulsoup4) (4.15.0)\n",
      "Requirement already satisfied: aiohappyeyeballs>=2.5.0 in ./.venv/lib/python3.12/site-packages (from aiohttp<4.0.0,>=3.8.3->langchain-community) (2.6.1)\n",
      "Requirement already satisfied: aiosignal>=1.4.0 in ./.venv/lib/python3.12/site-packages (from aiohttp<4.0.0,>=3.8.3->langchain-community) (1.4.0)\n",
      "Requirement already satisfied: attrs>=17.3.0 in ./.venv/lib/python3.12/site-packages (from aiohttp<4.0.0,>=3.8.3->langchain-community) (25.4.0)\n",
      "Requirement already satisfied: frozenlist>=1.1.1 in ./.venv/lib/python3.12/site-packages (from aiohttp<4.0.0,>=3.8.3->langchain-community) (1.8.0)\n",
      "Requirement already satisfied: multidict<7.0,>=4.5 in ./.venv/lib/python3.12/site-packages (from aiohttp<4.0.0,>=3.8.3->langchain-community) (6.7.0)\n",
      "Requirement already satisfied: propcache>=0.2.0 in ./.venv/lib/python3.12/site-packages (from aiohttp<4.0.0,>=3.8.3->langchain-community) (0.4.1)\n",
      "Requirement already satisfied: yarl<2.0,>=1.17.0 in ./.venv/lib/python3.12/site-packages (from aiohttp<4.0.0,>=3.8.3->langchain-community) (1.22.0)\n",
      "Requirement already satisfied: marshmallow<4.0.0,>=3.18.0 in ./.venv/lib/python3.12/site-packages (from dataclasses-json<0.7.0,>=0.6.7->langchain-community) (3.26.1)\n",
      "Requirement already satisfied: typing-inspect<1,>=0.4.0 in ./.venv/lib/python3.12/site-packages (from dataclasses-json<0.7.0,>=0.6.7->langchain-community) (0.9.0)\n",
      "Requirement already satisfied: jsonpatch<2.0.0,>=1.33.0 in ./.venv/lib/python3.12/site-packages (from langchain-core<1.0.0,>=0.3.72->langchain) (1.33)\n",
      "Collecting ormsgpack>=1.10.0 (from langgraph-checkpoint<3.0.0,>=2.1.0->langgraph)\n",
      "  Downloading ormsgpack-1.11.0-cp312-cp312-manylinux_2_17_x86_64.manylinux2014_x86_64.whl.metadata (1.2 kB)\n",
      "Requirement already satisfied: httpx>=0.25.2 in ./.venv/lib/python3.12/site-packages (from langgraph-sdk<0.3.0,>=0.2.2->langgraph) (0.28.1)\n",
      "Requirement already satisfied: orjson>=3.10.1 in ./.venv/lib/python3.12/site-packages (from langgraph-sdk<0.3.0,>=0.2.2->langgraph) (3.11.3)\n",
      "Requirement already satisfied: requests-toolbelt>=1.0.0 in ./.venv/lib/python3.12/site-packages (from langsmith>=0.1.17->langchain) (1.0.0)\n",
      "Requirement already satisfied: zstandard>=0.23.0 in ./.venv/lib/python3.12/site-packages (from langsmith>=0.1.17->langchain) (0.25.0)\n",
      "Requirement already satisfied: anyio<5,>=3.5.0 in ./.venv/lib/python3.12/site-packages (from openai<3.0.0,>=1.104.2->langchain-openai) (4.11.0)\n",
      "Requirement already satisfied: distro<2,>=1.7.0 in ./.venv/lib/python3.12/site-packages (from openai<3.0.0,>=1.104.2->langchain-openai) (1.9.0)\n",
      "Requirement already satisfied: jiter<1,>=0.4.0 in ./.venv/lib/python3.12/site-packages (from openai<3.0.0,>=1.104.2->langchain-openai) (0.11.0)\n",
      "Requirement already satisfied: sniffio in ./.venv/lib/python3.12/site-packages (from openai<3.0.0,>=1.104.2->langchain-openai) (1.3.1)\n",
      "Requirement already satisfied: tqdm>4 in ./.venv/lib/python3.12/site-packages (from openai<3.0.0,>=1.104.2->langchain-openai) (4.67.1)\n",
      "Requirement already satisfied: annotated-types>=0.6.0 in ./.venv/lib/python3.12/site-packages (from pydantic<3.0.0,>=2.7.4->langchain) (0.7.0)\n",
      "Requirement already satisfied: pydantic-core==2.41.1 in ./.venv/lib/python3.12/site-packages (from pydantic<3.0.0,>=2.7.4->langchain) (2.41.1)\n",
      "Requirement already satisfied: typing-inspection>=0.4.2 in ./.venv/lib/python3.12/site-packages (from pydantic<3.0.0,>=2.7.4->langchain) (0.4.2)\n",
      "Requirement already satisfied: greenlet>=1 in ./.venv/lib/python3.12/site-packages (from SQLAlchemy<3,>=1.4->langchain) (3.2.4)\n",
      "Requirement already satisfied: regex>=2022.1.18 in ./.venv/lib/python3.12/site-packages (from tiktoken<1.0.0,>=0.7.0->langchain-openai) (2025.9.18)\n",
      "Requirement already satisfied: httpcore==1.* in ./.venv/lib/python3.12/site-packages (from httpx>=0.25.2->langgraph-sdk<0.3.0,>=0.2.2->langgraph) (1.0.9)\n",
      "Requirement already satisfied: h11>=0.16 in ./.venv/lib/python3.12/site-packages (from httpcore==1.*->httpx>=0.25.2->langgraph-sdk<0.3.0,>=0.2.2->langgraph) (0.16.0)\n",
      "Requirement already satisfied: jsonpointer>=1.9 in ./.venv/lib/python3.12/site-packages (from jsonpatch<2.0.0,>=1.33.0->langchain-core<1.0.0,>=0.3.72->langchain) (3.0.0)\n",
      "Requirement already satisfied: mypy-extensions>=0.3.0 in ./.venv/lib/python3.12/site-packages (from typing-inspect<1,>=0.4.0->dataclasses-json<0.7.0,>=0.6.7->langchain-community) (1.1.0)\n",
      "Using cached langgraph-0.6.8-py3-none-any.whl (154 kB)\n",
      "Using cached beautifulsoup4-4.14.2-py3-none-any.whl (106 kB)\n",
      "Downloading langgraph_checkpoint-2.1.2-py3-none-any.whl (45 kB)\n",
      "\u001b[2K   \u001b[90m━━━━━━━━━━━━━━━━━━━━━━━━━━━━━━━━━━━━━━━━\u001b[0m \u001b[32m45.8/45.8 kB\u001b[0m \u001b[31m2.7 MB/s\u001b[0m eta \u001b[36m0:00:00\u001b[0m\n",
      "\u001b[?25hUsing cached langgraph_prebuilt-0.6.4-py3-none-any.whl (28 kB)\n",
      "Using cached langgraph_sdk-0.2.9-py3-none-any.whl (56 kB)\n",
      "Using cached soupsieve-2.8-py3-none-any.whl (36 kB)\n",
      "Downloading xxhash-3.6.0-cp312-cp312-manylinux2014_x86_64.manylinux_2_17_x86_64.manylinux_2_28_x86_64.whl (193 kB)\n",
      "\u001b[2K   \u001b[90m━━━━━━━━━━━━━━━━━━━━━━━━━━━━━━━━━━━━━━━━\u001b[0m \u001b[32m193.9/193.9 kB\u001b[0m \u001b[31m4.1 MB/s\u001b[0m eta \u001b[36m0:00:00\u001b[0ma \u001b[36m0:00:01\u001b[0m\n",
      "\u001b[?25hDownloading ormsgpack-1.11.0-cp312-cp312-manylinux_2_17_x86_64.manylinux2014_x86_64.whl (207 kB)\n",
      "\u001b[2K   \u001b[90m━━━━━━━━━━━━━━━━━━━━━━━━━━━━━━━━━━━━━━━━\u001b[0m \u001b[32m207.6/207.6 kB\u001b[0m \u001b[31m4.7 MB/s\u001b[0m eta \u001b[36m0:00:00\u001b[0ma \u001b[36m0:00:01\u001b[0m\n",
      "\u001b[?25hInstalling collected packages: xxhash, soupsieve, ormsgpack, beautifulsoup4, wikipedia, langgraph-sdk, langgraph-checkpoint, langgraph-prebuilt, langgraph\n",
      "Successfully installed beautifulsoup4-4.14.2 langgraph-0.6.8 langgraph-checkpoint-2.1.2 langgraph-prebuilt-0.6.4 langgraph-sdk-0.2.9 ormsgpack-1.11.0 soupsieve-2.8 wikipedia-1.4.0 xxhash-3.6.0\n"
     ]
    }
   ],
   "source": [
    "# Install required packages\n",
    "!pip install langchain langchain-openai langchain-community faiss-cpu python-dotenv langgraph requests beautifulsoup4 wikipedia"
   ]
  },
  {
   "cell_type": "markdown",
   "metadata": {},
   "source": [
    "## Setup: Loading Our API Keys Securely 🔐\n",
    "\n",
    "First, let's load our environment variables. \n",
    "\n",
    "In real life, **NEVER** put API keys directly in your code! For this Kaggle workshop only, you can set your API key in the `KAGGLE_BACKUP` variable below. Though locally, you should use a `.env` file with the following content: \n",
    "```.env\n",
    "OPENAI_API_KEY=\"your-key\"\n",
    "```"
   ]
  },
  {
   "cell_type": "code",
   "execution_count": 1,
   "metadata": {},
   "outputs": [],
   "source": [
    "# Only if running this on Kaggle\n",
    "KAGGLE_BACKUP = \"sk-...\"  # Replace with your OpenAI key for Kaggle only"
   ]
  },
  {
   "cell_type": "code",
   "execution_count": 4,
   "metadata": {},
   "outputs": [
    {
     "name": "stdout",
     "output_type": "stream",
     "text": [
      "✅ API key loaded successfully: sk-proj-Cdxa...\n"
     ]
    }
   ],
   "source": [
    "import os\n",
    "from langchain_openai import ChatOpenAI, OpenAIEmbeddings\n",
    "from langchain_core.tools import tool\n",
    "from langchain_community.vectorstores import FAISS\n",
    "from langgraph.prebuilt import create_react_agent\n",
    "from dotenv import load_dotenv\n",
    "\n",
    "load_dotenv()\n",
    "\n",
    "# Load API key with Kaggle backup\n",
    "api_key = os.getenv(\"OPENAI_API_KEY\", KAGGLE_BACKUP)\n",
    "if api_key:\n",
    "    print(f\"✅ API key loaded successfully: {api_key[:12]}...\")\n",
    "else:\n",
    "    print(\"❌ No API key found. Make sure you have a .env file with OPENAI_API_KEY=\")\n",
    "\n",
    "llm = ChatOpenAI(model=\"gpt-5-nano\", temperature=0.3, api_key=api_key)"
   ]
  },
  {
   "cell_type": "markdown",
   "metadata": {},
   "source": [
    "## 1. Tools: Giving LLMs Superpowers\n",
    "\n",
    "LLMs are great at text, but they can't do math reliably or access external data. That's where **tools** come in!\n",
    "\n",
    "A tool is just a Python function with a special decorator that tells the LLM:\n",
    "- What the function does\n",
    "- What inputs it needs\n",
    "- When to use it\n",
    "\n",
    "Let's create a simple calculator tool:"
   ]
  },
  {
   "cell_type": "code",
   "execution_count": 11,
   "metadata": {},
   "outputs": [
    {
     "name": "stdout",
     "output_type": "stream",
     "text": [
      "Calculator: The answer to 15 * 7 is 105\n",
      "Error calculating with input '15 x 2': invalid syntax (<string>, line 1)\n",
      "Tool name: calculator\n",
      "Tool description: Evaluates a mathematical expression with python syntax. Use this for any math calculations.\n",
      "\n",
      "    Args:\n",
      "        expression: A mathematical expression with python operators (e.g., \"2 * 2\" or \"10 ** 2\")\n"
     ]
    }
   ],
   "source": [
    "@tool\n",
    "def calculator(expression: str) -> str:\n",
    "    \"\"\"Evaluates a mathematical expression with python syntax. Use this for any math calculations.\n",
    "    \n",
    "    Args:\n",
    "        expression: A mathematical expression with python operators (e.g., \"2 * 2\" or \"10 ** 2\")\n",
    "    \"\"\"\n",
    "    try:\n",
    "        # WARNING: this is REALLY dangerous in production code! Do not use eval() with untrusted input!\n",
    "        result = eval(expression)\n",
    "        return f\"Calculator: The answer to {expression} is {result}\"\n",
    "    except Exception as e:\n",
    "        return f\"Error calculating with input '{expression}': {str(e)}\"\n",
    "\n",
    "# Test it out!\n",
    "print(calculator.invoke(\"15 * 7\"))\n",
    "print(calculator.invoke(\"15 x 2\"))\n",
    "print(f\"Tool name: {calculator.name}\")\n",
    "print(f\"Tool description: {calculator.description}\")"
   ]
  },
  {
   "cell_type": "code",
   "execution_count": 6,
   "metadata": {},
   "outputs": [
    {
     "name": "stdout",
     "output_type": "stream",
     "text": [
      "Page: Python (programming language)\n",
      "Summary: Python is a high-level, general-purpose programming language. Its design philosophy emphasizes code readability with the use of significant indentation.\n",
      "Python is dynamically type-checked and garbage-collected. It supports multiple programming paradigms, including structured (particularly procedural), object-oriented and functional programming.\n",
      "Guido van Rossum began working on Python in the late 1980s as a successor to the ABC programming language. Python 3.0, released in 2008, was a major revision and not completely backward-compatible with earlier versions. Recent versions, such as Python 3.13, 3.12 and older (and 3.14), have added capabilities and keywords for typing (and more; e.g. increasing speed); helping with (optional) static typing. Currently only versions in the 3.x series are supported.\n",
      "Python consistently ranks as one of the most popular programming languages, and it has gained widespread use in the machine learning community. It is widely taught as an introductory programming language.\n",
      "\n",
      "\n",
      "\n",
      "Page: History of Python\n",
      "Summary: The programming language Python was conceived in the late 1980s, and its implementation was started in December 1989 by Guido van Rossum at CWI in the Netherlands as a successor to ABC capable of exception handling and interfacing with the Amoeba operating system. Van Rossum was Python's principal author and had a central role in deciding the direction of Python (as reflected in the title given to him by the Python community, Benevolent Dictator for Life (BDFL)) until stepping down as leader on July 12, 2018. Python was named after the BBC TV show Monty Python's Flying Circus.\n",
      "Python 2.0 was released on October 16, 2000, with many major new features, such as list comprehensions, cycle-detecting garbage collector, reference counting, memory management and support for Unicode, along with a change to the development process itself, with a shift to a more transparent and community-backed process.\n",
      "Python 3.0, a major, backwards-incompatible release, was released on December 3, 2008 after a long period of testing. Many of its major features were also backported to the backwards-compatible Python versions 2.6 and 2.7 until support for Python 2 finally ceased at the beginning of 2020. Releases of Python 3 include the 2to3 utility, which automates the translation of Python 2 code to Python 3.\n",
      "As of 9 August 2025, Python 3.13.6 is the latest stable release. This version currently receives full bug-fix and security updates, while Python 3.12—released in October 2023—had active bug-fix support only until April 2025, and since then only security fixes. Python 3.9 is the oldest supported version of Python (albeit in the 'security support' phase), because Python 3.8 has become an end-of-life product.\n",
      "\n",
      "\n",
      "\n",
      "Page: Outline of the Python programming language\n",
      "Summary: The following outline is provided as an overview of and topical guide to Python:\n",
      "Python is a general-purpose, interpreted, object-oriented, multi-paradigm, and dynamically typed programming language known for its readable syntax and broad standard library. Python was created by Guido van Rossum and first released in 1991. It emphasizes code readability and developer productivity.\n",
      "\n",
      "\n"
     ]
    }
   ],
   "source": [
    "from langchain_community.tools import WikipediaQueryRun\n",
    "from langchain_community.utilities import WikipediaAPIWrapper\n",
    "\n",
    "@tool\n",
    "def get_wikipedia_summary(topic: str) -> str:\n",
    "    \"\"\"Fetches a summary from Wikipedia for a given topic. Use this to get factual information about people, places, events, or concepts.\n",
    "    \n",
    "    Args:\n",
    "        topic: The topic to search for on Wikipedia (e.g., \"Albert Einstein\", \"Python programming\")\n",
    "    \"\"\"\n",
    "    try:\n",
    "        wikipedia = WikipediaQueryRun(api_wrapper=WikipediaAPIWrapper())\n",
    "        summary = wikipedia.run(topic)\n",
    "        return summary\n",
    "    except Exception as e:\n",
    "        return f\"Error fetching Wikipedia data: {str(e)}\"\n",
    "\n",
    "# Test it!\n",
    "print(get_wikipedia_summary.invoke(\"Python programming\"))"
   ]
  },
  {
   "cell_type": "markdown",
   "metadata": {},
   "source": [
    "## 2. Agents: LLMs That Make Decisions\n",
    "\n",
    "An **agent** is an LLM that can:\n",
    "1. **Reason** about what to do\n",
    "2. **Act** by calling tools\n",
    "3. **Observe** the results\n",
    "4. **Repeat** until it solves the problem\n",
    "\n",
    "This is called the **ReAct** pattern (Reason + Act). \n",
    "\n",
    "What makes agents powerful is combining multiple tools - like using Wikipedia for facts AND a calculator for math. Let's see this in action!"
   ]
  },
  {
   "cell_type": "code",
   "execution_count": 12,
   "metadata": {},
   "outputs": [
    {
     "name": "stdout",
     "output_type": "stream",
     "text": [
      "Agent created with tools: ['calculator', 'get_wikipedia_summary']\n"
     ]
    }
   ],
   "source": [
    "# Create our agent with multiple tools\n",
    "tools = [calculator, get_wikipedia_summary]\n",
    "\n",
    "# LangGraph's create_react_agent makes this super easy!\n",
    "agent = create_react_agent(llm, tools)\n",
    "\n",
    "print(\"Agent created with tools:\", [tool.name for tool in tools])"
   ]
  },
  {
   "cell_type": "code",
   "execution_count": 13,
   "metadata": {},
   "outputs": [
    {
     "name": "stdout",
     "output_type": "stream",
     "text": [
      "Question: What is the population and GDP of Tokyo according to Wikipedia? Assume 5 percent of people in Tokyo are tourists on the average day. Use the Calculator tool to calculate the GDP per tourist of Tokyo?\n",
      "\n",
      "================================================================================\n",
      "\n",
      "User: What is the population and GDP of Tokyo according to Wikipedia? Assume 5 percent of people in Tokyo are tourists on the average day. Use the Calculator tool to calculate the GDP per tourist of Tokyo?\n",
      "\n",
      "Tool: Page: Tokyo\n",
      "Summary: Tokyo, officially the Tokyo Metropolis, is the capital and most populous city in Japan. With a population of over 14 million in the city proper in 2023, it is one of the most populous urban areas in the world. The Greater Tokyo Area, which includes Tokyo and parts of six neighboring prefectures, is the most populous metropolitan area in the world, with 41 million residents as of 2024.\n",
      "Lying at the head of Tokyo Bay, Tokyo is part of the Kantō region, on the central coast of Honshu, Japan's largest island. It is Japan's economic center and the seat of the Japanese government and the Emperor of Japan. The Tokyo Metropolitan Government administers Tokyo's central 23 special wards, which formerly made up Tokyo City; various commuter towns and suburbs in its western area; and two outlying island chains, the Tokyo Islands. Although most of the world recognizes Tokyo as a city, since 1943 its governing structure has been more akin to that of a prefecture, with an accompanying Governor and Assembly taking precedence over the smaller municipal governments that make up the metropolis. Special wards in Tokyo include Chiyoda, the site of the National Diet Building and the Tokyo Imperial Palace; Shinjuku, the city's administrative center; and Shibuya, a hub of commerce and business.\n",
      "Tokyo, originally known as Edo, rose to political prominence in 1603 when it became the seat of the Tokugawa shogunate, and by the mid-18th century, Edo had evolved from a small fishing village into one of the largest cities in the world, with a population surpassing one million. After the Meiji Restoration (1868), the imperial capital in Kyoto was moved to Edo, and the city was renamed Tokyo (lit. 'Eastern Capital'). Tokyo was greatly damaged by the 1923 Great Kantō earthquake and by allied bombing raids during World War II. From the late 1940s, Tokyo underwent rapid reconstruction and expansion, which fueled the Japanese economic miracle, in which Japan's economy became the second-largest in the world at the time, behind that of the United States. As of 2023, Tokyo is home to 29 of the world's 500 largest companies, as listed in the annual Fortune Global 500—the second highest number of any city.\n",
      "Tokyo was the first city in Asia to host the Summer Olympics and Paralympics, in 1964 and then in 2021. It also hosted three G7 summits, in 1979, 1986, and 1993. Tokyo is an international hub of research and development and an academic center, with several major universities, including the University of Tokyo, the top-ranking university in Japan. Tokyo Station is the central hub for the Shinkansen, the country's high-speed railway network; and the city's Shinjuku Station is the world's busiest train station. Tokyo Skytree is the world's tallest tower. The Tokyo Metro Ginza Line, which opened in 1927, is the oldest underground metro line in Asia.\n",
      "Tokyo's nominal gross domestic output was 113.7 trillion yen (US$1.04 trillion) in FY2021 and accounted for 20.7% of Japan's economic output, which converts to 8.07 million yen or US$73,820 per capita. Including the Greater Tokyo Area, Tokyo is the second-largest metropolitan economy in the world after New York, with a 2022 gross metropolitan product estimated at US$2.08 trillion. Although Tokyo's status as a leading global financial hub has diminished with the Lost Decades since the 1990s, when the Tokyo Stock Exchange (TSE) was the world's largest, with a market capitalization about 1.5 times that of the NYSE, Tokyo is still a leading financial hub, and the TSE remains among the world's top five major stock exchanges. Tokyo is categorized as an Alpha+ city by the Globalization and World Cities Research Network. It ranked 14th in the 2024 edition of the Global Livability Ranking, and has been ranked as the safest city in the world in multiple international surveys.\n",
      "\n",
      "\n",
      "\n",
      "Page: Tokyo!\n",
      "Summary: Tokyo! is a 2008 anthology film containing three segments written by three non-Japanese directors and filmed in Toky\n",
      "\n",
      "Tool: Page: Tokyo\n",
      "Summary: Tokyo, officially the Tokyo Metropolis, is the capital and most populous city in Japan. With a population of over 14 million in the city proper in 2023, it is one of the most populous urban areas in the world. The Greater Tokyo Area, which includes Tokyo and parts of six neighboring prefectures, is the most populous metropolitan area in the world, with 41 million residents as of 2024.\n",
      "Lying at the head of Tokyo Bay, Tokyo is part of the Kantō region, on the central coast of Honshu, Japan's largest island. It is Japan's economic center and the seat of the Japanese government and the Emperor of Japan. The Tokyo Metropolitan Government administers Tokyo's central 23 special wards, which formerly made up Tokyo City; various commuter towns and suburbs in its western area; and two outlying island chains, the Tokyo Islands. Although most of the world recognizes Tokyo as a city, since 1943 its governing structure has been more akin to that of a prefecture, with an accompanying Governor and Assembly taking precedence over the smaller municipal governments that make up the metropolis. Special wards in Tokyo include Chiyoda, the site of the National Diet Building and the Tokyo Imperial Palace; Shinjuku, the city's administrative center; and Shibuya, a hub of commerce and business.\n",
      "Tokyo, originally known as Edo, rose to political prominence in 1603 when it became the seat of the Tokugawa shogunate, and by the mid-18th century, Edo had evolved from a small fishing village into one of the largest cities in the world, with a population surpassing one million. After the Meiji Restoration (1868), the imperial capital in Kyoto was moved to Edo, and the city was renamed Tokyo (lit. 'Eastern Capital'). Tokyo was greatly damaged by the 1923 Great Kantō earthquake and by allied bombing raids during World War II. From the late 1940s, Tokyo underwent rapid reconstruction and expansion, which fueled the Japanese economic miracle, in which Japan's economy became the second-largest in the world at the time, behind that of the United States. As of 2023, Tokyo is home to 29 of the world's 500 largest companies, as listed in the annual Fortune Global 500—the second highest number of any city.\n",
      "Tokyo was the first city in Asia to host the Summer Olympics and Paralympics, in 1964 and then in 2021. It also hosted three G7 summits, in 1979, 1986, and 1993. Tokyo is an international hub of research and development and an academic center, with several major universities, including the University of Tokyo, the top-ranking university in Japan. Tokyo Station is the central hub for the Shinkansen, the country's high-speed railway network; and the city's Shinjuku Station is the world's busiest train station. Tokyo Skytree is the world's tallest tower. The Tokyo Metro Ginza Line, which opened in 1927, is the oldest underground metro line in Asia.\n",
      "Tokyo's nominal gross domestic output was 113.7 trillion yen (US$1.04 trillion) in FY2021 and accounted for 20.7% of Japan's economic output, which converts to 8.07 million yen or US$73,820 per capita. Including the Greater Tokyo Area, Tokyo is the second-largest metropolitan economy in the world after New York, with a 2022 gross metropolitan product estimated at US$2.08 trillion. Although Tokyo's status as a leading global financial hub has diminished with the Lost Decades since the 1990s, when the Tokyo Stock Exchange (TSE) was the world's largest, with a market capitalization about 1.5 times that of the NYSE, Tokyo is still a leading financial hub, and the TSE remains among the world's top five major stock exchanges. Tokyo is categorized as an Alpha+ city by the Globalization and World Cities Research Network. It ranked 14th in the 2024 edition of the Global Livability Ranking, and has been ranked as the safest city in the world in multiple international surveys.\n",
      "\n",
      "\n",
      "\n",
      "Page: Tokyo Stock Exchange\n",
      "Summary: The Tokyo Stock Exchange (東京証券取引所, Tōkyō Shōken Torihikijo), abbreviated as Tosho (東証) or TSE/TYO, is \n",
      "\n",
      "Tool: Calculator: The answer to 1.04e12 / (14000000 * 0.05) is 1485714.2857142857\n",
      "\n",
      "Agent: Here’s what Wikipedia lists, plus the calculated GDP per tourist under your assumption.\n",
      "\n",
      "- Population (city proper): over 14 million in 2023.\n",
      "- GDP (city proper, nominal): 113.7 trillion yen (US$1.04 trillion) in FY2021.\n",
      "\n",
      "As a point of context:\n",
      "- Population (Greater Tokyo Area): about 41 million as of 2024.\n",
      "- GDP (Greater Tokyo Area, GMPE): about US$2.08 trillion in 2022.\n",
      "\n",
      "GDP per tourist (assuming 5% of the city’s population are tourists on an average day)\n",
      "- 5% of 14,000,000 = 700,000 tourists\n",
      "- GDP per tourist = US$1.04 trillion / 700,000 ≈ US$1,485,714 per tourist per year\n",
      "\n",
      "Rounded: approximately US$1.49 million per tourist.\n",
      "\n",
      "Note: If you instead used the Greater Tokyo Area population (41 million), the same GDP figure would yield about US$0.51 million per tourist. Would you like me to compute that as well?\n"
     ]
    }
   ],
   "source": [
    "# Now let's ask a question that requires BOTH tools!\n",
    "question = \"What is the population and GDP of Tokyo according to Wikipedia? Assume 5 percent of people in Tokyo are tourists on the average day. Use the Calculator tool to calculate the GDP per tourist of Tokyo?\"\n",
    "\n",
    "# Run the agent and watch it work\n",
    "print(f\"Question: {question}\\n\")\n",
    "print(\"=\" * 80)\n",
    "\n",
    "messages = [{\"role\": \"user\", \"content\": question}]\n",
    "result = agent.invoke({\"messages\": messages})\n",
    "\n",
    "# The agent returns all messages - let's see its reasoning\n",
    "for msg in result[\"messages\"]:\n",
    "    if hasattr(msg, \"content\") and msg.content:\n",
    "        role = \"User\" if msg.type == \"human\" else \"Agent\" if msg.type == \"ai\" else \"Tool\"\n",
    "        print(f\"\\n{role}: {msg.content}\")"
   ]
  },
  {
   "cell_type": "markdown",
   "metadata": {},
   "source": [
    "### What Just Happened? 🤯\n",
    "\n",
    "The agent just:\n",
    "1. **Understood** the question required two steps\n",
    "2. **Called** `get_wikipedia_summary` to fetch Tokyo's population\n",
    "3. **Extracted** the population number from the Wikipedia summary\n",
    "4. **Called** `calculator` to multiply by 0.05\n",
    "5. **Returned** a final answer with context\n",
    "\n",
    "This is the power of agents - they can chain together multiple tools to solve complex problems!"
   ]
  },
  {
   "cell_type": "markdown",
   "metadata": {},
   "source": [
    "## 🎯 Exercise 1: Build Your Own Multi-Tool Agent\n",
    "\n",
    "Create an agent that can answer geography and math questions! Here's what to build:\n",
    "\n",
    "1. **Create a tool** called `get_country_info` that fetches information about a country from Wikipedia\n",
    "2. **Use the calculator tool** we already have\n",
    "3. **Create an agent** with both tools using `create_react_agent`\n",
    "4. **Ask it this question**: \"What is the area of Canada in square kilometers? If you drove across it at 100 km/h non-stop, how many hours would that take?\"\n",
    "\n",
    "Hints:\n",
    "- Copy the pattern from `get_wikipedia_summary` but search for country names\n",
    "- The agent will need to extract the area from Wikipedia, then calculate drive time\n",
    "- Remember: distance = speed × time, so time = distance / speed\n",
    "- Use `create_react_agent(llm, [your_tools])` to create the agent"
   ]
  },
  {
   "cell_type": "code",
   "execution_count": null,
   "metadata": {},
   "outputs": [],
   "source": [
    "# Your code here!\n",
    "\n"
   ]
  },
  {
   "cell_type": "markdown",
   "metadata": {},
   "source": [
    "## 3. Vectorstores and Embeddings: Finding Relevant Information\n",
    "\n",
    "Imagine you have a huge library of documents. How do you find the most relevant ones for a question?\n",
    "\n",
    "Traditional search uses keywords, but **semantic search** understands meaning. Here's how:\n",
    "\n",
    "### What are Embeddings?\n",
    "\n",
    "**Embeddings** turn text into lists of numbers (vectors) that capture meaning:\n",
    "- Similar texts → similar vectors\n",
    "- \"dog\" and \"puppy\" → close together\n",
    "- \"dog\" and \"spaceship\" → far apart\n",
    "\n",
    "Think of it like a map where similar concepts are near each other!\n",
    "![Vector embeddings visualisation](https://raw.githubusercontent.com/WAT-ai/F25-Zero-to-ML-Workshops/refs/heads/workshop-5/vectorstore_viz.png)\n",
    "\n",
    "### What are Vectorstores?\n",
    "\n",
    "A **vectorstore** is a database that:\n",
    "1. Stores text alongside its embedding\n",
    "2. Can find similar texts super fast\n",
    "3. Returns the most relevant documents for a query\n",
    "\n",
    "We're using **FAISS** (Facebook AI Similarity Search) as our vectorstore"
   ]
  },
  {
   "cell_type": "markdown",
   "metadata": {},
   "source": [
    "### Loading a FAISS Vectorstore\n",
    "\n",
    "We've prepped a FAISS vectorstore with [some fun data on MrBeast Youtube comments from Kaggle](https://www.kaggle.com/datasets/adilshamim8/mrbeast-youtube-comment-sentiment-analysis). Let's load it:"
   ]
  },
  {
   "cell_type": "code",
   "execution_count": 18,
   "metadata": {},
   "outputs": [
    {
     "name": "stdout",
     "output_type": "stream",
     "text": [
      "Vectorstore loaded successfully!\n"
     ]
    }
   ],
   "source": [
    "# Initialize embeddings (same model used to create the vectorstore)\n",
    "embeddings = OpenAIEmbeddings(model=\"text-embedding-3-small\")\n",
    "\n",
    "# Load the pre-built vectorstore\n",
    "vectorstore = FAISS.load_local(\n",
    "    \"faiss_index\",  # Path to your vectorstore folder\n",
    "    embeddings,\n",
    "    allow_dangerous_deserialization=True  # Only use with trusted data!\n",
    ")\n",
    "\n",
    "print(\"Vectorstore loaded successfully!\")"
   ]
  },
  {
   "cell_type": "markdown",
   "metadata": {},
   "source": [
    "### Similarity Search\n",
    "\n",
    "Now we can ask questions and find relevant documents:"
   ]
  },
  {
   "cell_type": "code",
   "execution_count": null,
   "metadata": {},
   "outputs": [
    {
     "name": "stdout",
     "output_type": "stream",
     "text": [
      "\n",
      "--- Document 1 ---\n",
      "Well expected items were out of stock but I was surprised at the overall amount of food, booze, and underwear that were still available  #Coronavirus #COVID19 #Walmart https://t.co/uOypRqiSvR\n",
      "Metadata: {'sentiment': 'Positive', 'location': 'Central California', 'tweet_date': '14-03-2020', 'row_id': 2237}\n",
      "\n",
      "--- Document 2 ---\n",
      "Interesting that some of the more shocking images to come out of the current #Covid_19 atmosphere are those of empty grocery store shelves...\n",
      "Metadata: {'sentiment': 'Negative', 'location': 'Seattle, WA', 'tweet_date': '14-03-2020', 'row_id': 2290}\n",
      "\n",
      "--- Document 3 ---\n",
      "Unbelievable, I saw this at my local grocery store:\n",
      "#COVID2019 #coronavirus #toiletpapercrisis https://t.co/BBBzq8wqm5\n",
      "Metadata: {'sentiment': 'Positive', 'location': 'West Coast', 'tweet_date': '13-03-2020', 'row_id': 1834}\n"
     ]
    }
   ],
   "source": [
    "# Find the 3 most relevant documents\n",
    "query = \"Most surprising\"\n",
    "docs = vectorstore.similarity_search(query, k=3)\n",
    "\n",
    "for i, doc in enumerate(docs, 1):\n",
    "    print(f\"\\n--- Document {i} ---\")\n",
    "    print(doc.page_content)\n",
    "    print(f\"Metadata: {doc.metadata}\")"
   ]
  },
  {
   "cell_type": "markdown",
   "metadata": {},
   "source": [
    "### RAG: Retrieval-Augmented Generation\n",
    "\n",
    "**RAG** combines vectorstores with LLMs:\n",
    "1. **Retrieve** relevant documents from the vectorstore\n",
    "2. **Augment** the prompt with those documents\n",
    "3. **Generate** an answer using the LLM\n",
    "\n",
    "This lets the LLM answer questions about data it wasn't trained on!"
   ]
  },
  {
   "cell_type": "code",
   "execution_count": 25,
   "metadata": {},
   "outputs": [
    {
     "name": "stdout",
     "output_type": "stream",
     "text": [
      "Answer: Durex.\n",
      "\n",
      "Reason: It’s the most cheeky, unexpected item in the “winners” list for a coronavirus-themed joke—surprising and contrasts with the more practical items like online shopping or coffee machines. Humor is subjective, though—some might find online learning or gaming just as funny for the at-home vibe.\n",
      "\n",
      "Sources used:\n",
      "====================\n",
      "#Coronavirus #originalcontent winners and losers (comedy version)\n",
      "+\n",
      "Gaming incl board games\n",
      "Durex\n",
      "Online learning\n",
      "Online shopping\n",
      "Coffee machines\n",
      "Cook books \n",
      "Pets \n",
      "\n",
      "-\n",
      "...rbucks\n",
      "====================\n",
      "We used to laugh at Demolition Man ?\n",
      "\n",
      "#Coronavirus https://t.co/2t2Rgs1nff...\n",
      "====================\n",
      "Our supermarket is being funny. #Covid_19 #coronavirus https://t.co/hxK725yHE0...\n"
     ]
    }
   ],
   "source": [
    "from langchain.chains import RetrievalQA\n",
    "\n",
    "# Create a RAG chain\n",
    "qa_chain = RetrievalQA.from_chain_type(\n",
    "    llm=llm,\n",
    "    chain_type=\"stuff\",  # \"stuff\" all docs into the prompt\n",
    "    retriever=vectorstore.as_retriever(search_kwargs={\"k\": 3}),\n",
    "    return_source_documents=True\n",
    ")\n",
    "\n",
    "# Ask a question!\n",
    "question = \"What's the funniest thing in the dataset?\"\n",
    "result = qa_chain.invoke({\"query\": question})\n",
    "\n",
    "print(\"Answer:\", result[\"result\"])\n",
    "print(\"\\nSources used:\")\n",
    "for doc in result[\"source_documents\"]:\n",
    "    print(\"=\" * 20)\n",
    "    print(f\"{doc.page_content[:200]}...\")"
   ]
  },
  {
   "cell_type": "markdown",
   "metadata": {},
   "source": [
    "## 🎯 Exercise 2: Experiment with Vectorstores\n",
    "\n",
    "**Part A:** Try different queries with `similarity_search()` and see what documents get returned. Notice how it finds semantically similar content, not just keyword matches.\n",
    "\n",
    "**Part B:** Modify the RAG chain to retrieve 5 documents instead of 3, then ask it a complex question that requires synthesizing information from multiple sources.\n",
    "\n",
    "**Bonus Challenge:** Use `similarity_search_with_score()` to see how confident the vectorstore is about each match (lower scores = better matches)."
   ]
  },
  {
   "cell_type": "code",
   "execution_count": null,
   "metadata": {},
   "outputs": [],
   "source": [
    "# Part A: Your queries here\n",
    "\n"
   ]
  },
  {
   "cell_type": "code",
   "execution_count": null,
   "metadata": {},
   "outputs": [],
   "source": [
    "# Part B: Modified RAG chain\n",
    "\n"
   ]
  },
  {
   "cell_type": "code",
   "execution_count": null,
   "metadata": {},
   "outputs": [],
   "source": [
    "# Bonus: Similarity search with scores\n",
    "\n"
   ]
  },
  {
   "cell_type": "markdown",
   "metadata": {},
   "source": [
    "## Wrap Up\n",
    "\n",
    "Today you learned:\n",
    "\n",
    "- **Tools** let LLMs call Python functions to extend their capabilities\n",
    "- **Agents** use the ReAct pattern to reason and decide which tools to use\n",
    "- **Embeddings** turn text into vectors that capture semantic meaning\n",
    "- **Vectorstores** enable fast similarity search over large datasets\n",
    "- **RAG** combines retrieval with generation for answering questions about custom data\n",
    "\n",
    "These are the building blocks for powerful AI applications like chatbots, research assistants, and more! We'll get started on that with a project next time."
   ]
  }
 ],
 "metadata": {
  "kernelspec": {
   "display_name": ".venv",
   "language": "python",
   "name": "python3"
  },
  "language_info": {
   "codemirror_mode": {
    "name": "ipython",
    "version": 3
   },
   "file_extension": ".py",
   "mimetype": "text/x-python",
   "name": "python",
   "nbconvert_exporter": "python",
   "pygments_lexer": "ipython3",
   "version": "3.12.3"
  }
 },
 "nbformat": 4,
 "nbformat_minor": 4
}
