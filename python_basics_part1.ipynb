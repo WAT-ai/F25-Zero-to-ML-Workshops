{
 "cells": [
  {
   "cell_type": "markdown",
   "metadata": {},
   "source": [
    "# Python Basics Part 1: The Building Blocks\n",
    "\n",
    "Welcome to Python! Think of this as learning the alphabet before writing sentences. Today we'll cover the fundamental building blocks that make up every Python program.\n",
    "\n",
    "Don't worry if things don't click immediately - programming is like learning a new language, and it takes practice to become fluent!"
   ]
  },
  {
   "cell_type": "markdown",
   "metadata": {},
   "source": [
    "---"
   ]
  },
  {
   "cell_type": "markdown",
   "metadata": {},
   "source": [
    "## Comments: Leaving Notes for Future You\n",
    "\n",
    "Comments are like sticky notes in your code - they help you (and others) understand what's happening. Python ignores them completely, so you can write whatever you want!"
   ]
  },
  {
   "cell_type": "code",
   "execution_count": null,
   "metadata": {},
   "outputs": [],
   "source": [
    "# This is a comment. Put a hashtag and all text after becomes a comment.\n",
    "\n",
    "'''\n",
    "This is a multiline comment.\n",
    "You type THREE single quotes or double quotes around whatever text.\n",
    "Perfect for longer explanations or temporarily disabling code.\n",
    "'''"
   ]
  },
  {
   "cell_type": "markdown",
   "metadata": {},
   "source": [
    "## Data Types: Python's Building Materials\n",
    "\n",
    "Just like LEGO has different types of blocks, Python has different types of data. Each type is designed for specific purposes and has special powers!"
   ]
  },
  {
   "cell_type": "code",
   "execution_count": null,
   "metadata": {},
   "outputs": [],
   "source": [
    "# Strings - for text and words\n",
    "'Bob'                        # A string can use single quotes or double quotes\n",
    "\"Bob's favorite food\"        # Use double quotes when you need an apostrophe\n",
    "'Bob said \"Hello!\"'          # Use single quotes when you need quotation marks\n",
    "\n",
    "# Numbers come in multiple flavours\n",
    "42                           # Integer - whole numbers (no decimal point)\n",
    "3.14159                      # Float - decimal numbers (think \"floating point\")\n",
    "\n",
    "# Booleans - the yes/no of programming\n",
    "True                         # Notice the capital T! \n",
    "False                        # And capital F! Python is picky about capitalization\n",
    "\n",
    "# Collections - ways to group multiple pieces of data\n",
    "[1, 2, 3]                    # List - like a shopping list, you can change it\n",
    "(1, 2, 3)                    # Tuple - like a list but \"frozen\" (immutable)\n",
    "{\"name\": \"Alice\", \"age\": 25} # Dictionary - like a phone book, look up keys to get values\n",
    "\n",
    "# The absence of data\n",
    "None                         # Like a placeholder for \"nothing here yet\""
   ]
  },
  {
   "cell_type": "markdown",
   "metadata": {},
   "source": [
    "## Operators: Making Things Happen\n",
    "\n",
    "Operators are like verbs in programming - they tell Python what to DO with your data. Let's explore the different categories:"
   ]
  },
  {
   "cell_type": "code",
   "execution_count": 1,
   "metadata": {},
   "outputs": [
    {
     "name": "stdout",
     "output_type": "stream",
     "text": [
      "Addition: 8\n",
      "Subtraction: 6\n",
      "Multiplication: 42\n",
      "Division: 3.75\n",
      "Integer division: 3\n",
      "Remainder: 3\n",
      "Exponentiation: 8\n"
     ]
    }
   ],
   "source": [
    "# Sidenote: print() is a 'function' in Python. We'll learn more about these soon\n",
    "# For now, we'll just use print() knowing that it allows us to display what's in\n",
    "# between the parentheses.\n",
    "\n",
    "# Math operators\n",
    "print(\"Addition:\", 5 + 3)               # 8\n",
    "print(\"Subtraction:\", 10 - 4)           # 6\n",
    "print(\"Multiplication:\", 6 * 7)         # 42\n",
    "print(\"Division:\", 15 / 4)              # 3.75 (always gives a float)\n",
    "print(\"Integer division:\", 15 // 4)     # 3 (throws away the decimal)\n",
    "print(\"Remainder:\", 15 % 4)             # 3 (what's left over after division)\n",
    "print(\"Exponentiation:\", 2 ** 3)        # 8 (2 to the power of 3)"
   ]
  },
  {
   "cell_type": "code",
   "execution_count": 2,
   "metadata": {},
   "outputs": [
    {
     "name": "stdout",
     "output_type": "stream",
     "text": [
      "Hello World!\n",
      "[1, 2, 3, 4]\n",
      "HaHaHa\n",
      "[0, 0, 0, 0, 0]\n"
     ]
    }
   ],
   "source": [
    "# String and list operators - joining things together\n",
    "print(\"Hello \" + \"World!\")       # Concatenation - stick strings together\n",
    "print([1, 2] + [3, 4])           # Lists can be added too!\n",
    "print(\"Ha\" * 3)                  # Repeat strings\n",
    "print([0] * 5)                   # Repeat lists"
   ]
  },
  {
   "cell_type": "code",
   "execution_count": 3,
   "metadata": {},
   "outputs": [
    {
     "name": "stdout",
     "output_type": "stream",
     "text": [
      "Is 5 greater than 3? True\n",
      "Is 2 less than 1? False\n",
      "Is 10 equal to 10? True\n",
      "Is 'cat' not equal to 'dog'? True\n",
      "Is 7 greater than or equal to 7? True\n"
     ]
    }
   ],
   "source": [
    "# Comparison operators - asking questions about your data\n",
    "print(\"Is 5 greater than 3?\", 5 > 3)                    # True\n",
    "print(\"Is 2 less than 1?\", 2 < 1)                       # False\n",
    "print(\"Is 10 equal to 10?\", 10 == 10)                   # True (note the double equals!)\n",
    "print(\"Is 'cat' not equal to 'dog'?\", 'cat' != 'dog')   # True\n",
    "print(\"Is 7 greater than or equal to 7?\", 7 >= 7)       # True"
   ]
  },
  {
   "cell_type": "markdown",
   "metadata": {},
   "source": [
    "## Variables: Giving Names to Your Data\n",
    "\n",
    "Variables are like labeled boxes that store your data. You can put anything in them and change what's inside anytime!"
   ]
  },
  {
   "cell_type": "code",
   "execution_count": 4,
   "metadata": {},
   "outputs": [
    {
     "name": "stdout",
     "output_type": "stream",
     "text": [
      "Perfect beach day? True\n",
      "Need umbrella? False\n",
      "Opposite of sunny: False\n"
     ]
    }
   ],
   "source": [
    "# Logical operators - combining multiple conditions\n",
    "sunny = True\n",
    "warm = True\n",
    "print(\"Perfect beach day?\", sunny and warm)     # Both must be True\n",
    "\n",
    "raining = False\n",
    "snowing = False\n",
    "print(\"Need umbrella?\", raining or snowing)    # Either can be True\n",
    "\n",
    "print(\"Opposite of sunny:\", not sunny)         # Flip True to False or vice versa"
   ]
  },
  {
   "cell_type": "markdown",
   "metadata": {},
   "source": [
    "**Common beginner mistake**: Remember that `=` assigns a value to a variable, while `==` checks if two things are equal. Think of `=` as \"becomes\" and `==` as \"equals?\""
   ]
  },
  {
   "cell_type": "code",
   "execution_count": 5,
   "metadata": {},
   "outputs": [
    {
     "name": "stdout",
     "output_type": "stream",
     "text": [
      "Hi, I'm Alice\n",
      "Next year I'll be 21\n"
     ]
    }
   ],
   "source": [
    "# Creating variables is simple - just pick a name and assign a value\n",
    "my_name = \"Alice\"\n",
    "my_age = 20\n",
    "\n",
    "# Note how we used another special python 'function' here\n",
    "print(\"Hi, I'm \" + my_name)\n",
    "print(\"Next year I'll be\", my_age + 1)"
   ]
  },
  {
   "cell_type": "code",
   "execution_count": null,
   "metadata": {},
   "outputs": [],
   "source": [
    "# Variable naming rules and best practices\n",
    "good_variable_name = \"Use underscores for spaces\"\n",
    "another_good_name = \"Start with letters or underscores\"\n",
    "name_with_numbers_123 = \"Numbers are OK after the first character\"\n",
    "\n",
    "# These won't work (don't try them!):\n",
    "# my variable = \"No spaces allowed!\"\n",
    "# 123_bad_name = \"Can't start with numbers\"\n",
    "# list = \"This is a reserved Python word\"\n",
    "\n",
    "# Python style guide has the following conventions:\n",
    "user_name = \"alice\"           # Standard - lowercase with underscores\n",
    "userName = \"alice\"            # Works but not the convention\n",
    "PI = 3.14159265               # Use all caps for constants (variables that you won't change)"
   ]
  },
  {
   "cell_type": "markdown",
   "metadata": {},
   "source": [
    "## Built-in Functions\n",
    "\n",
    "In general, **functions are places to store reusable code that would be tedious to write out all the time**. Functions take in some data, perform some operations on them (like with the operators we showed above), and then return that data. \n",
    "\n",
    "Ex: You could create a reusable series of addition and division operations to find the average of some numbers. To avoid repeating those lines of code every time you want to calculate an average, you can put them in a python 'function'.\n",
    "\n",
    "Before we start creating our own functions, note that Python comes with many pre-built functions to solve common problems. These built-in functions can save you time and are tested to be high-quality."
   ]
  },
  {
   "cell_type": "code",
   "execution_count": null,
   "metadata": {},
   "outputs": [],
   "source": [
    "# The print() function - your best friend for seeing what's happening\n",
    "print(\"Hello, World!\")              # Display text\n",
    "print(42)                           # Display numbers\n",
    "print([1, 2, 3])                    # Display lists\n",
    "print(\"Score:\", 95, \"Grade:\", \"A\")  # Display multiple things at once"
   ]
  },
  {
   "cell_type": "code",
   "execution_count": 6,
   "metadata": {},
   "outputs": [
    {
     "name": "stdout",
     "output_type": "stream",
     "text": [
      "Sum: 20\n",
      "Maximum: 9\n",
      "Minimum: 1\n",
      "Length: 5\n",
      "Character count:  18\n"
     ]
    }
   ],
   "source": [
    "# Mathematical functions\n",
    "numbers = [1, 5, 3, 9, 2]\n",
    "print(\"Sum:\", sum(numbers))        # Add all numbers: 20\n",
    "print(\"Maximum:\", max(numbers))    # Find the biggest: 9\n",
    "print(\"Minimum:\", min(numbers))    # Find the smallest: 1\n",
    "print(\"Length:\", len(numbers))     # Count how many items: 5\n",
    "\n",
    "# len() works on strings too!\n",
    "message = \"Python is awesome!\"\n",
    "print(\"Character count: \", len(message))"
   ]
  },
  {
   "cell_type": "code",
   "execution_count": null,
   "metadata": {},
   "outputs": [],
   "source": [
    "# Type conversion functions - changing one data type to another\n",
    "# This is super useful when you need to mix different types\n",
    "\n",
    "age = 25\n",
    "# Convert number to string so we can use the string concatenation (+) operator\n",
    "print(\"I am \" + str(age) + \" years old\")\n",
    "\n",
    "score_text = \"87\"\n",
    "# Convert string to integer and back\n",
    "score_number = int(score_text)\n",
    "print(\"Your score plus 10 is:\" + str(score_number + 10))\n",
    "\n",
    "pi_text = \"3.14159\"\n",
    "# Convert string to decimal and back\n",
    "pi_number = float(pi_text)\n",
    "print(\"Pi times 2 is:\" + str(pi_number * 2))\n",
    "\n",
    "# Shortcut: there's a special python syntax called f-string\n",
    "# It implicitly handles conversions to strings since we do that so often\n",
    "print(f\"Pi times 2 is: {pi_number * 2}\")\n",
    "\n",
    "word = \"Python\"\n",
    "# Convert string to list of characters\n",
    "letters = list(word)\n",
    "print(f\"Letters in Python: {letters}\")"
   ]
  },
  {
   "cell_type": "markdown",
   "metadata": {},
   "source": [
    "**Why do we need type conversion?** Python is picky about mixing types. You can't add a string and a number directly - you have to convert one of them first. It's like trying to add apples and the word \"orange\" - it doesn't make sense until you clarify what you mean!"
   ]
  },
  {
   "cell_type": "markdown",
   "metadata": {},
   "source": [
    "## More on Lists\n",
    "\n",
    "Lists are incredibly versatile - they're like dynamic containers that can hold any type of data and can grow or shrink as needed."
   ]
  },
  {
   "cell_type": "code",
   "execution_count": null,
   "metadata": {},
   "outputs": [],
   "source": [
    "# Creating and using lists\n",
    "fruits = [\"apple\", \"banana\", \"cherry\"]\n",
    "print(\"My fruits:\", fruits)\n",
    "\n",
    "# Lists have built-in \"methods\" (functions that belong to the list)\n",
    "fruits.append(\"orange\")        # Add to the end\n",
    "print(\"After adding orange:\", fruits)\n",
    "\n",
    "fruits.insert(1, \"mango\")      # Insert at specific position (position 1)\n",
    "print(\"After inserting mango:\", fruits)\n",
    "\n",
    "removed_fruit = fruits.pop()   # Remove and return the last item\n",
    "print(\"Removed:\", removed_fruit)\n",
    "print(\"Remaining fruits:\", fruits)"
   ]
  },
  {
   "cell_type": "code",
   "execution_count": null,
   "metadata": {},
   "outputs": [],
   "source": [
    "# List indexing - accessing specific items\n",
    "# Think of lists like apartment buildings with numbered doors\n",
    "colors = [\"red\", \"green\", \"blue\", \"yellow\", \"purple\"]\n",
    "\n",
    "print(\"First color:\", colors[0])      # Door numbers start at 0, not 1!\n",
    "print(\"Third color:\", colors[2])      # Remember: 0, 1, 2...\n",
    "print(\"Last color:\", colors[-1])      # Negative numbers count from the end\n",
    "print(\"Second to last:\", colors[-2])  # -1 is last, -2 is second to last, etc."
   ]
  },
  {
   "cell_type": "code",
   "execution_count": null,
   "metadata": {},
   "outputs": [],
   "source": [
    "# List slicing - getting chunks of your list\n",
    "# Format: list[start:stop:step]\n",
    "numbers = [0, 1, 2, 3, 4, 5, 6, 7, 8, 9]\n",
    "\n",
    "print(\"First 3 numbers:\", numbers[0:3])     # Start at 0, stop before 3\n",
    "print(\"From index 2 to 5:\", numbers[2:6])   # Start at 2, stop before 6\n",
    "print(\"Last 3 numbers:\", numbers[-3:])      # From 3rd to last, to the end\n",
    "print(\"Every other number:\", numbers[::2])  # Skip every 2nd item\n",
    "print(\"Reverse the list:\", numbers[::-1])   # Negative step reverses!"
   ]
  },
  {
   "cell_type": "markdown",
   "metadata": {},
   "source": [
    "**Memory trick for slicing**: Think \"start:stop:step\" and remember that the stop index is **not included** (like \"floors 1 to 3\" in an elevator usually means floors 1 and 2)."
   ]
  },
  {
   "cell_type": "code",
   "execution_count": null,
   "metadata": {},
   "outputs": [],
   "source": [
    "# String indexing works the same way!\n",
    "name = \"Python\"\n",
    "print(\"First letter:\", name[0])        # P\n",
    "print(\"Last letter:\", name[-1])       # n\n",
    "print(\"First 3 letters:\", name[:3])   # Pyt\n",
    "print(\"Reverse spelling:\", name[::-1]) # nohtyP"
   ]
  },
  {
   "cell_type": "markdown",
   "metadata": {},
   "source": [
    "## Functions: Your Code's Superpowers\n",
    "\n",
    "Functions are like recipes - they take ingredients (parameters), follow steps, and produce a result. They're one of the most powerful tools in programming because they let you avoid repeating code. Now, it's your turn to make your own functions instead of just using Python's prebuilt functions."
   ]
  },
  {
   "cell_type": "code",
   "execution_count": null,
   "metadata": {},
   "outputs": [
    {
     "name": "stdout",
     "output_type": "stream",
     "text": [
      "Hello, Alice\n",
      "Hello, Bob\n"
     ]
    }
   ],
   "source": [
    "# Basic function structure\n",
    "def greet_person(name):              # def (since you're defining a function), function name, parameters in parentheses\n",
    "    message = \"Hello, \" + name      # Code inside is indented (4 spaces)\n",
    "    return message                   # return sends a value back\n",
    "\n",
    "# Using (AKA \"calling\") the function\n",
    "greeting = greet_person(\"Alice\")\n",
    "print(greeting)"
   ]
  },
  {
   "cell_type": "markdown",
   "metadata": {},
   "source": [
    "Note that a 'parameter' is just a special name for a variable that's being RECEIVED by a function.\n",
    "\n",
    "Random trivia: there's another word 'argument' for the variable being SENT to a function.\n",
    "\n",
    "So inside `greet_person`, `name` is the parameter, and when we call `greet_person(\"Alice\")`, the string \"Alice\" is the argument."
   ]
  },
  {
   "cell_type": "code",
   "execution_count": null,
   "metadata": {},
   "outputs": [],
   "source": [
    "# Functions can take multiple parameters\n",
    "def calculate_tip(bill_amount, tip_percentage):\n",
    "    tip = bill_amount * (tip_percentage / 100)\n",
    "    total = bill_amount + tip\n",
    "    return total\n",
    "\n",
    "dinner_bill = 45.00\n",
    "tip_percent = 18\n",
    "total_cost = calculate_tip(dinner_bill, tip_percent)\n",
    "print(f\"Bill: ${dinner_bill}, Tip: {tip_percent}%, Total: ${total_cost}\")"
   ]
  },
  {
   "cell_type": "code",
   "execution_count": null,
   "metadata": {},
   "outputs": [],
   "source": [
    "# Functions don't always need to return something\n",
    "def print_shopping_list(item1, item2, item3):\n",
    "    print(\"Shopping List:\")\n",
    "    print(f\"- {item1}\")\n",
    "    print(f\"- {item2}\")\n",
    "    print(f\"- {item3}\")\n",
    "\n",
    "print_shopping_list(\"milk\", \"eggs\", \"bread\")"
   ]
  },
  {
   "cell_type": "markdown",
   "metadata": {},
   "source": [
    "**Why functions matter**: Instead of copying and pasting the same code everywhere, you write it once in a function and call it whenever needed. This makes your code cleaner, easier to debug, and simpler to modify.\n",
    "\n",
    "Sidenote: it seems inconvenient to create the last function specifically for 3 items. What if we wanted to have more items on our shopping list? We'll learn how to fix this problem in our next workshop 😉"
   ]
  },
  {
   "cell_type": "markdown",
   "metadata": {},
   "source": [
    "---\n",
    "## Practice Exercise: Personal Information Manager\n",
    "\n",
    "Let's put everything together! Create a simple personal information system using the concepts we've learned.\n",
    "\n",
    "**Your task**: Complete the functions below to manage a person's information."
   ]
  },
  {
   "cell_type": "code",
   "execution_count": null,
   "metadata": {},
   "outputs": [],
   "source": [
    "# Exercise: Complete these functions\n",
    "# Note that we've followed best practices here and included optional syntax \n",
    "# called type hints (tell function users the data types of parameters/returns)\n",
    "# and docstrings (explain what the function does)\n",
    "\n",
    "def create_person_info(name: str, age: int, hobbies_list: list) -> dict:\n",
    "    \"\"\"\n",
    "    Create a dictionary containing person's information.\n",
    "    \n",
    "    Parameters:\n",
    "    name (str): Person's name\n",
    "    age (int): Person's age\n",
    "    hobbies_list (list): List of hobbies\n",
    "    \n",
    "    Returns:\n",
    "    dict: Dictionary with keys 'name', 'age', and 'hobbies'\n",
    "    \"\"\"\n",
    "    # TODO: Create and return a dictionary with the person's info\n",
    "    pass  # Replace this with your code\n",
    "\n",
    "def display_person_info(person_dict: dict) -> None:\n",
    "    \"\"\"\n",
    "    Print a nicely formatted display of person's information.\n",
    "    \n",
    "    Parameters:\n",
    "    person_dict (dict): Dictionary containing person's info\n",
    "    \"\"\"\n",
    "    # TODO: Print the person's info in a friendly format\n",
    "    # Example output:\n",
    "    # Name: Alice\n",
    "    # Age: 25 years old\n",
    "    # Hobbies: [reading, swimming, cooking]\n",
    "    pass  # Replace this with your code\n",
    "\n",
    "def add_hobby(person_dict: dict, new_hobby: str) -> None:\n",
    "    \"\"\"\n",
    "    Add a new hobby to the person's hobby list.\n",
    "    \n",
    "    Parameters:\n",
    "    person_dict (dict): Dictionary containing person's info\n",
    "    new_hobby (str): New hobby to add\n",
    "    \"\"\"\n",
    "    # TODO: Add the new hobby to the person's hobbies list\n",
    "    # NOTE: You don't need to return anything since the dict is modified \n",
    "    # everywhere, not just within this function\n",
    "\n",
    "    pass  # Replace this with your code\n",
    "\n",
    "# Test your functions here by uncommenting these lines:\n",
    "# person = create_person_info(\"Alice\", 25, [\"reading\", \"swimming\"])\n",
    "# display_person_info(person)\n",
    "# add_hobby(person, \"cooking\")\n",
    "# print(\"\\nAfter adding a hobby:\")\n",
    "# display_person_info(person)"
   ]
  },
  {
   "cell_type": "markdown",
   "metadata": {},
   "source": [
    "### Solution (Try the exercise first!)\n",
    "\n",
    "Click the cell below to see one possible solution:"
   ]
  },
  {
   "cell_type": "code",
   "execution_count": null,
   "metadata": {},
   "outputs": [],
   "source": [
    "# Solution - don't peek until you've tried!\n",
    "\n",
    "def create_person_info(name, age, hobbies_list):\n",
    "    return {\n",
    "        \"name\": name,\n",
    "        \"age\": age,\n",
    "        \"hobbies\": hobbies_list\n",
    "    }\n",
    "\n",
    "def display_person_info(person_dict):\n",
    "    print(f\"Name: {person_dict['name']}\")\n",
    "    print(f\"Age: {person_dict['age']} years old\")\n",
    "    print(f\"Hobbies: {person_dict['hobbies']}\")\n",
    "\n",
    "def add_hobby(person_dict, new_hobby):\n",
    "    person_dict['hobbies'].append(new_hobby)\n",
    "\n",
    "# Test the solution\n",
    "person = create_person_info(\"Alice\", 25, [\"reading\", \"swimming\"])\n",
    "display_person_info(person)\n",
    "add_hobby(person, \"cooking\")\n",
    "print(\"\\nAfter adding a hobby:\")\n",
    "display_person_info(person)"
   ]
  },
  {
   "cell_type": "markdown",
   "metadata": {},
   "source": [
    "---\n",
    "## What's Next?\n",
    "\n",
    "You've learned the fundamental building blocks of Python! You can now:\n",
    "- Store data in variables\n",
    "- Use different data types appropriately\n",
    "- Manipulate data with operators\n",
    "- Organize data in lists\n",
    "- Create reusable functions\n",
    "\n",
    "In **Part 2**, we'll explore more advanced concepts like:\n",
    "- **Conditionals** - making your code smart by adding decision-making\n",
    "- **Loops** - automating repetitive tasks\n",
    "- **Classes** - creating your own custom data types\n",
    "\n",
    "These fundamentals are your foundation - everything else in Python builds on these concepts. Take your time to understand them well, and don't hesitate to experiment!\n",
    "\n",
    "**Remember**: The best way to learn programming is by doing. Try changing the examples, break things (on purpose!), and see what happens. That's how you develop intuition for how Python works."
   ]
  }
 ],
 "metadata": {
  "kernelspec": {
   "display_name": ".venv",
   "language": "python",
   "name": "python3"
  },
  "language_info": {
   "codemirror_mode": {
    "name": "ipython",
    "version": 3
   },
   "file_extension": ".py",
   "mimetype": "text/x-python",
   "name": "python",
   "nbconvert_exporter": "python",
   "pygments_lexer": "ipython3",
   "version": "3.12.3"
  }
 },
 "nbformat": 4,
 "nbformat_minor": 4
}
