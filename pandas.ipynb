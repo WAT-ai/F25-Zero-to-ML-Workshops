{
 "cells": [
  {
   "cell_type": "markdown",
   "metadata": {},
   "source": [
    "# Pandas Crash Course: CSV Data Analysis\n",
    "\n",
    "Welcome to the world of data analysis! Today we'll learn how to use pandas to analyze real data from CSV files. Pandas is like a supercharged Excel - it lets you load, clean, analyze, and visualize data with just a few lines of code.\n",
    "\n",
    "We'll analyze sales data from a fictional online store to answer business questions and create visualizations."
   ]
  },
  {
   "cell_type": "markdown",
   "metadata": {},
   "source": [
    "## Setting Up: Import Libraries and Data"
   ]
  },
  {
   "cell_type": "code",
   "execution_count": null,
   "metadata": {},
   "outputs": [],
   "source": [
    "import pandas as pd\n",
    "import matplotlib.pyplot as plt\n",
    "import random\n",
    "from datetime import datetime, timedelta\n",
    "\n",
    "print(\"Libraries imported successfully!\")\n",
    "print(f\"Pandas version: {pd.__version__}\")"
   ]
  },
  {
   "cell_type": "markdown",
   "metadata": {},
   "source": [
    "For simplicity, we've added data for you to this repository in `sales_data.csv`. We found it on [Kaggle](https://www.kaggle.com/datasets/kyanyoga/sample-sales-data) - a great resource for datasets."
   ]
  },
  {
   "cell_type": "markdown",
   "metadata": {},
   "source": [
    "## Loading Data: Your First Pandas DataFrame"
   ]
  },
  {
   "cell_type": "code",
   "execution_count": null,
   "metadata": {},
   "outputs": [],
   "source": [
    "# Load the CSV file into a pandas DataFrame\n",
    "# Note: This is a class in the pandas library, just like the classes we learned\n",
    "# about in our last Python workshop. Thus, it has methods and attributes we can\n",
    "# use to manipulate and analyze our data.\n",
    "df = pd.read_csv('sales_data.csv', encoding=\"latin-1\")\n",
    "\n",
    "# Accessing an attribute of the DataFrame class, which shows us the \n",
    "# (rows x columns) or shape of the data\n",
    "print(f\"Dataset shape: {df.shape} (rows, columns)\")\n",
    "# Accessing another attribute that lists the column names\n",
    "print(f\"\\nColumn names: {list(df.columns)}\")"
   ]
  },
  {
   "cell_type": "markdown",
   "metadata": {},
   "source": [
    "You might be wondering - how do we know what methods and attributes are available for a pandas DataFrame? And how did we know to use `pd.read_csv()` with the filename and `encoding` parameter?\n",
    "1. **Documentation**: The [pandas documentation](https://pandas.pydata.org/pandas-docs/stable/) is comprehensive and includes examples of attributes and methods for each class they create. Try exploring the [DataFrame documentation](https://pandas.pydata.org/pandas-docs/stable/reference/api/pandas.DataFrame.html) to see all the capabilities of this class.\n",
    "2. **ChatGPT**: We didn't initially try to use the `latin-1` encoding parameter. We ran into an error when loading the CSV file and asked ChatGPT for help given the nature of the error message and our dataset"
   ]
  },
  {
   "cell_type": "markdown",
   "metadata": {},
   "source": [
    "## Exploring Your Data\n",
    "\n",
    "Again, you could find these functions using Pandas docs or ChatGPT. You'll get familiar with them as you use pandas more."
   ]
  },
  {
   "cell_type": "code",
   "execution_count": null,
   "metadata": {},
   "outputs": [],
   "source": [
    "# View the first few rows\n",
    "print(\"First 6 rows of our data:\")\n",
    "df.head(6)"
   ]
  },
  {
   "cell_type": "code",
   "execution_count": null,
   "metadata": {},
   "outputs": [],
   "source": [
    "# Get basic information about the dataset\n",
    "print(\"Dataset info:\")\n",
    "df.info()"
   ]
  },
  {
   "cell_type": "code",
   "execution_count": null,
   "metadata": {},
   "outputs": [],
   "source": [
    "print(\"\\n\" + \"=\"*50)\n",
    "print(\"Summary statistics:\")\n",
    "df.describe()"
   ]
  },
  {
   "cell_type": "markdown",
   "metadata": {},
   "source": [
    "## Basic Data Analysis: Answering Business Questions\n",
    "\n",
    "Let's use pandas to answer some important business questions about our sales data. In the process, we'll learn how to filter, group, and aggregate data."
   ]
  },
  {
   "cell_type": "code",
   "execution_count": null,
   "metadata": {},
   "outputs": [],
   "source": [
    "# Question 1: What are our total sales?\n",
    "\n",
    "# df['SALES'] accesses the SALES column of our DataFrame. A bit like accessing \n",
    "# a list or dictionary value.\n",
    "sales = df['SALES']\n",
    "# This is a pandas Series (another class) that we can search up docs for\n",
    "print(type(sales))  \n",
    "# We find out that there's a convenient .sum() method to add numerical values\n",
    "total_sales = sales.sum()\n",
    "\n",
    "# :,.2f formats the number with commas and 2 decimal places\n",
    "print(f\"Total Revenue: ${total_sales:,.2f}\")"
   ]
  },
  {
   "cell_type": "code",
   "execution_count": null,
   "metadata": {},
   "outputs": [],
   "source": [
    "# Question 2: Which country has the most orders?\n",
    "quantity_by_country = df.groupby('COUNTRY')['QUANTITYORDERED']\n",
    "\n",
    "# Note that there are seemingly no changes based on the .groupby() method.\n",
    "# It just creates a new class instance called a GroupBy object that's ready \n",
    "# for us to compute stats on.\n",
    "print(type(quantity_by_country))\n",
    "print(quantity_by_country.head())"
   ]
  },
  {
   "cell_type": "code",
   "execution_count": null,
   "metadata": {},
   "outputs": [],
   "source": [
    "# Compute stats on the groupby object\n",
    "sales_by_country = quantity_by_country.sum()\n",
    "print(sales_by_country.sort_values(ascending=False))"
   ]
  },
  {
   "cell_type": "code",
   "execution_count": null,
   "metadata": {},
   "outputs": [],
   "source": [
    "# Question 3: Which product line has the highest average order quantity?\n",
    "print(\"Average Order Quantity by Product:\")\n",
    "product_avg_quantity = df.groupby('PRODUCTLINE')['QUANTITYORDERED'].mean().sort_values(ascending=False)\n",
    "print(product_avg_quantity)"
   ]
  },
  {
   "cell_type": "code",
   "execution_count": null,
   "metadata": {},
   "outputs": [],
   "source": [
    "# Question 4: you fill in the blank: what's the lowest price product code?\n",
    "print(\"Highest Price Product Code:\")\n",
    "# highest_price_product = ...\n",
    "# print(highest_price_product)"
   ]
  },
  {
   "cell_type": "code",
   "execution_count": null,
   "metadata": {},
   "outputs": [],
   "source": [
    "# Question 5: What's the average order value?\n",
    "avg_order_value = df['SALES'].mean()\n",
    "print(f\"Average Order Value: ${avg_order_value:.2f}\")"
   ]
  },
  {
   "cell_type": "code",
   "execution_count": null,
   "metadata": {},
   "outputs": [],
   "source": [
    "# Question 6: How many years of sales data do we have?\n",
    "latest_year = df[\"YEAR_ID\"].max()\n",
    "earliest_year = df[\"YEAR_ID\"].min()\n",
    "num_years = latest_year - earliest_year + 1\n",
    "print(f\"Years of Sales Data: {num_years} ({earliest_year} to {latest_year})\")"
   ]
  },
  {
   "cell_type": "code",
   "execution_count": null,
   "metadata": {},
   "outputs": [],
   "source": [
    "# Question 7: How many US cities do we deliver to? \n",
    "\n",
    "# Under the hood, df['COUNTRY'] == 'USA' creates a boolean series (True/False values)\n",
    "# that we can use to filter our DataFrame to only rows where the country is USA. \n",
    "us_cities = df[df['COUNTRY'] == 'USA']['CITY'].unique()\n",
    "num_cities = len(us_cities)\n",
    "print(f\"Number of US Cities with Sales: {num_cities}\")\n",
    "print(f\"Here are a few examples: {us_cities[0: min(5, num_cities) ]}\")"
   ]
  },
  {
   "cell_type": "code",
   "execution_count": null,
   "metadata": {},
   "outputs": [],
   "source": [
    "# Question 8: Fill in the blank: Which French city has the highest total sales?\n",
    "# french_city_sales = ..."
   ]
  },
  {
   "cell_type": "markdown",
   "metadata": {},
   "source": [
    "## Data Filtering: Finding Specific Information"
   ]
  },
  {
   "cell_type": "code",
   "execution_count": null,
   "metadata": {},
   "outputs": [],
   "source": [
    "# Find high-value orders (over $1000)\n",
    "\n",
    "# Again, indexing via boolean masking\n",
    "high_value_orders = df[df['SALES'] > 1000]\n",
    "print(f\"Number of high-value orders (>$1000): {len(high_value_orders)}\")\n",
    "print(\"\\nTop 5 highest-value orders:\")\n",
    "\n",
    "# We don't have to index with a single column name; we can use a list of names\n",
    "high_value_orders.nlargest(5, 'SALES')[['PRODUCTLINE', 'COUNTRY', 'QUANTITYORDERED', 'SALES']]"
   ]
  },
  {
   "cell_type": "code",
   "execution_count": null,
   "metadata": {},
   "outputs": [],
   "source": [
    "# Filter for specific product and region\n",
    "\n",
    "# More complicated boolean masking with & (and) and | (or) operators\n",
    "# Note that the parentheses () are necessary\n",
    "spain_motorcycles = df[(df['PRODUCTLINE'] == 'Motorcycles') & (df['COUNTRY'] == 'Spain')]\n",
    "print(f\"Motorcycle sales in Spain: {len(spain_motorcycles)} orders\")\n",
    "print(f\"Total motorcycle revenue in Spain: ${spain_motorcycles['SALES'].sum():,.2f}\")"
   ]
  },
  {
   "cell_type": "code",
   "execution_count": null,
   "metadata": {},
   "outputs": [],
   "source": [
    "# Question 9: Fill in the blanks: find the number of trains sold in Asia\n",
    "# Hint: look at prior results to check which countries are in Asia\n",
    "# train_sales_asia = ..."
   ]
  },
  {
   "cell_type": "markdown",
   "metadata": {},
   "source": [
    "## Data Visualization: Making Data Visual\n",
    "\n",
    "No, we didn't write this matplotlib code. We're unsure if anyone has written matplotlib code since 2022 with the invention of you know what 😅"
   ]
  },
  {
   "cell_type": "code",
   "execution_count": null,
   "metadata": {},
   "outputs": [],
   "source": [
    "# Create a bar chart of revenue by product line\n",
    "product_revenue = df.groupby('PRODUCTLINE')['SALES'].sum().sort_values(ascending=False)\n",
    "\n",
    "plt.figure(figsize=(10, 6))\n",
    "bars = plt.bar(product_revenue.index, product_revenue.values, color=['#1f77b4', '#ff7f0e', '#2ca02c', '#d62728', '#9467bd', '#8c564b'])\n",
    "plt.title('Total Revenue by Product', fontsize=16, fontweight='bold')\n",
    "plt.xlabel('Product', fontsize=12)\n",
    "plt.ylabel('Revenue ($)', fontsize=12)\n",
    "plt.xticks(rotation=45)\n",
    "\n",
    "# Add value labels on top of bars\n",
    "for bar in bars:\n",
    "    height = bar.get_height()\n",
    "    plt.text(bar.get_x() + bar.get_width()/2., height + 1000,\n",
    "             f'${height:,.0f}', ha='center', va='bottom', fontsize=10)\n",
    "\n",
    "plt.tight_layout()\n",
    "plt.show()\n",
    "\n",
    "# Print the actual numbers\n",
    "print(\"Revenue by Product:\")\n",
    "for product, revenue in product_revenue.items():\n",
    "    print(f\"{product}: ${revenue:,.2f}\")"
   ]
  },
  {
   "cell_type": "code",
   "execution_count": null,
   "metadata": {},
   "outputs": [],
   "source": [
    "# Create a pie chart of market share by country\n",
    "region_revenue = df.groupby('COUNTRY')['SALES'].sum().sort_values(ascending=True).tail(10)\n",
    "\n",
    "plt.figure(figsize=(8, 8))\n",
    "colors = ['#ff9999', '#66b3ff', '#99ff99', '#ffcc99', '#c2c2f0', '#ffb3e6', '#c4e17f', '#76f7b2', '#f7b76f', '#a6a6a6']\n",
    "wedges, texts, autotexts = plt.pie(region_revenue.values, labels=region_revenue.index, \n",
    "                                   autopct='%1.0f%%', colors=colors, startangle=90)\n",
    "plt.title('Market Share by Region', fontsize=16, fontweight='bold')\n",
    "\n",
    "# Make percentage text more readable\n",
    "for autotext in autotexts:\n",
    "    autotext.set_color('white')\n",
    "    autotext.set_fontweight('bold')\n",
    "    autotext.set_fontsize(12)\n",
    "\n",
    "plt.show()\n",
    "\n",
    "print(\"\\nRegional market share:\")\n",
    "total_revenue = region_revenue.sum()\n",
    "for region, revenue in region_revenue.items():\n",
    "    percentage = (revenue / total_revenue) * 100\n",
    "    print(f\"{region}: ${revenue:,.2f} ({percentage:.1f}%)\")"
   ]
  },
  {
   "cell_type": "markdown",
   "metadata": {},
   "source": [
    "## Essential Pandas Operations Summary\n",
    "\n",
    "Here are the key pandas operations you've learned:"
   ]
  },
  {
   "cell_type": "code",
   "execution_count": null,
   "metadata": {},
   "outputs": [],
   "source": [
    "print(\"Key Pandas Operations:\")\n",
    "print(\"\"\"\n",
    "📁 Loading data:        pd.read_csv('file.csv')\n",
    "👀 Viewing data:        df.head(), df.info(), df.describe()\n",
    "🔍 Filtering data:      df[df['column'] > value]\n",
    "📊 Grouping data:       df.groupby('column').sum()\n",
    "🧮 Calculations:       df['column'].sum(), df['column'].mean()\n",
    "📈 Sorting:            df.sort_values('column', ascending=False)\n",
    "📋 Selecting columns:   df[['col1', 'col2']]\n",
    "\"\"\")\n",
    "\n",
    "print(\"These operations can handle datasets with millions of rows!\")"
   ]
  },
  {
   "cell_type": "markdown",
   "metadata": {},
   "source": [
    "---\n",
    "## Exercise: Customer Analysis Challenge\n",
    "\n",
    "Now it's your turn! Let's create a customer dataset and perform some analysis."
   ]
  },
  {
   "cell_type": "code",
   "execution_count": null,
   "metadata": {},
   "outputs": [],
   "source": [
    "# Create customer dataset for the exercise\n",
    "def create_customer_data():\n",
    "    \"\"\"Generate customer satisfaction survey data.\"\"\"\n",
    "    random.seed(42)\n",
    "    \n",
    "    age_groups = ['18-25', '26-35', '36-45', '46-55', '55+']\n",
    "    cities = ['New York', 'Los Angeles', 'Chicago', 'Houston', 'Phoenix']\n",
    "    \n",
    "    data = []\n",
    "    for i in range(200):\n",
    "        data.append({\n",
    "            'Customer_ID': f'CUST_{i+1:04d}',\n",
    "            'Age_Group': random.choice(age_groups),\n",
    "            'City': random.choice(cities),\n",
    "            'Satisfaction_Score': random.randint(1, 10),\n",
    "            'Monthly_Spending': random.randint(50, 500),\n",
    "            'Years_Customer': random.randint(1, 10)\n",
    "        })\n",
    "    \n",
    "    return pd.DataFrame(data)\n",
    "\n",
    "# Create the customer dataset\n",
    "customers = create_customer_data()\n",
    "customers.to_csv('customer_data.csv', index=False)\n",
    "print(\"Customer dataset created!\")\n",
    "customers.head()"
   ]
  },
  {
   "cell_type": "markdown",
   "metadata": {},
   "source": [
    "### Your Task:\n",
    "Complete the following analysis using the customer dataset. Fill in the missing code to answer each question."
   ]
  },
  {
   "cell_type": "code",
   "execution_count": null,
   "metadata": {},
   "outputs": [],
   "source": [
    "# Exercise: Customer Analysis\n",
    "\n",
    "# 1. Load the customer data\n",
    "# TODO: Load the customer_data.csv file into a DataFrame called 'customers'\n",
    "customers = None  # Replace with your code\n",
    "\n",
    "# 2. Basic exploration\n",
    "# TODO: Print the shape of the dataset and the first 3 rows\n",
    "# Your code here\n",
    "\n",
    "# 3. Find the average satisfaction score\n",
    "# TODO: Calculate and print the average satisfaction score\n",
    "avg_satisfaction = None  # Replace with your code\n",
    "print(f\"Average satisfaction score: {avg_satisfaction}\")\n",
    "\n",
    "# 4. Which age group spends the most money on average?\n",
    "# TODO: Group by age group and calculate mean monthly spending\n",
    "age_spending = None  # Replace with your code\n",
    "print(\"Average spending by age group:\")\n",
    "print(age_spending)\n",
    "\n",
    "# 5. Find high-value customers\n",
    "# TODO: Filter customers who spend more than $300 per month\n",
    "high_spenders = None  # Replace with your code\n",
    "print(f\"\\nNumber of high-value customers (>$300/month): {len(high_spenders)}\")\n",
    "\n",
    "# 6. Create a visualization\n",
    "# TODO: Create a bar chart showing average satisfaction score by city\n",
    "# Hint: Use groupby, mean(), and then plot\n",
    "\n",
    "city_satisfaction = None  # Replace with your code\n",
    "\n",
    "# Plotting code (fill in the data)\n",
    "plt.figure(figsize=(10, 6))\n",
    "plt.bar(city_satisfaction.index, city_satisfaction.values, color='skyblue')\n",
    "plt.title('Average Satisfaction Score by City')\n",
    "plt.xlabel('City')\n",
    "plt.ylabel('Average Satisfaction Score')\n",
    "plt.xticks(rotation=45)\n",
    "plt.tight_layout()\n",
    "plt.show()"
   ]
  },
  {
   "cell_type": "markdown",
   "metadata": {},
   "source": [
    "### Solution (Try the exercise first!)"
   ]
  },
  {
   "cell_type": "code",
   "execution_count": null,
   "metadata": {},
   "outputs": [],
   "source": [
    "# Solution to Customer Analysis Exercise\n",
    "\n",
    "# 1. Load the customer data\n",
    "customers = pd.read_csv('customer_data.csv')\n",
    "\n",
    "# 2. Basic exploration\n",
    "print(f\"Dataset shape: {customers.shape}\")\n",
    "print(\"\\nFirst 3 rows:\")\n",
    "print(customers.head(3))\n",
    "\n",
    "# 3. Average satisfaction score\n",
    "avg_satisfaction = customers['Satisfaction_Score'].mean()\n",
    "print(f\"\\nAverage satisfaction score: {avg_satisfaction:.2f}\")\n",
    "\n",
    "# 4. Spending by age group\n",
    "age_spending = customers.groupby('Age_Group')['Monthly_Spending'].mean().sort_values(ascending=False)\n",
    "print(\"\\nAverage spending by age group:\")\n",
    "print(age_spending.round(2))\n",
    "\n",
    "# 5. High-value customers\n",
    "high_spenders = customers[customers['Monthly_Spending'] > 300]\n",
    "print(f\"\\nNumber of high-value customers (>$300/month): {len(high_spenders)}\")\n",
    "print(f\"Percentage of customers: {len(high_spenders)/len(customers)*100:.1f}%\")\n",
    "\n",
    "# 6. Visualization\n",
    "city_satisfaction = customers.groupby('City')['Satisfaction_Score'].mean()\n",
    "\n",
    "plt.figure(figsize=(10, 6))\n",
    "bars = plt.bar(city_satisfaction.index, city_satisfaction.values, color='lightcoral')\n",
    "plt.title('Average Satisfaction Score by City', fontsize=14, fontweight='bold')\n",
    "plt.xlabel('City')\n",
    "plt.ylabel('Average Satisfaction Score')\n",
    "plt.ylim(0, 10)\n",
    "\n",
    "# Add value labels on bars\n",
    "for bar in bars:\n",
    "    height = bar.get_height()\n",
    "    plt.text(bar.get_x() + bar.get_width()/2., height + 0.1,\n",
    "             f'{height:.1f}', ha='center', va='bottom')\n",
    "\n",
    "plt.xticks(rotation=45)\n",
    "plt.tight_layout()\n",
    "plt.show()\n",
    "\n",
    "print(\"\\nSatisfaction scores by city:\")\n",
    "for city, score in city_satisfaction.items():\n",
    "    print(f\"{city}: {score:.2f}/10\")"
   ]
  },
  {
   "cell_type": "markdown",
   "metadata": {},
   "source": [
    "## What You've Accomplished\n",
    "\n",
    "Congratulations! You've learned the fundamentals of data analysis with pandas:\n",
    "\n",
    "- **Loading data** from CSV files into DataFrames\n",
    "- **Exploring data** with basic statistics and summaries\n",
    "- **Filtering and querying** data to find specific information\n",
    "- **Grouping and aggregating** data to answer business questions\n",
    "- **Creating visualizations** to communicate insights\n",
    "\n",
    "These skills form the foundation of data science and are used daily by analysts, researchers, and data scientists worldwide.\n",
    "\n",
    "## Real-World Applications\n",
    "\n",
    "With pandas, you can analyze:\n",
    "- **Business data**: Sales, customers, inventory, financial records\n",
    "- **Scientific data**: Experimental results, sensor readings, survey responses\n",
    "- **Personal data**: Fitness tracking, expenses, habits\n",
    "- **Public data**: Government statistics, weather data, social media trends\n",
    "\n",
    "## Next Steps\n",
    "\n",
    "Continue building your data skills by:\n",
    "- Finding an interesting dataset related to your hobbies on [Kaggle](https://www.kaggle.com/datasets).\n",
    "- Learning advanced pandas operations (merging, pivoting, time series)\n",
    "- Exploring other visualization libraries ([seaborn](https://seaborn.pydata.org/), [plotly](https://plotly.com/python/) - which can make ✨ interactive 3D graphs ✨)\n",
    "- Moving into machine learning with scikit-learn\n",
    "\n",
    "Remember: the best way to learn pandas is by analyzing data that interests you!"
   ]
  }
 ],
 "metadata": {
  "kernelspec": {
   "display_name": ".venv",
   "language": "python",
   "name": "python3"
  },
  "language_info": {
   "codemirror_mode": {
    "name": "ipython",
    "version": 3
   },
   "file_extension": ".py",
   "mimetype": "text/x-python",
   "name": "python",
   "nbconvert_exporter": "python",
   "pygments_lexer": "ipython3",
   "version": "3.12.3"
  }
 },
 "nbformat": 4,
 "nbformat_minor": 4
}
